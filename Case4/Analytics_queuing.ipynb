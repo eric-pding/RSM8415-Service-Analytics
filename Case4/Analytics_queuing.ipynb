{
 "cells": [
  {
   "cell_type": "code",
   "execution_count": 2,
   "id": "57fd2408",
   "metadata": {},
   "outputs": [],
   "source": [
    "import math \n",
    "\n",
    "##### M/M/1##########\n",
    "def m_m_1(𝜆,µ,c=1):\n",
    "    𝜌 = 𝜆/µ\n",
    "    p0 = 1 - 𝜌\n",
    "    lq = 𝜌**2/(1-𝜌)\n",
    "    wq = lq/𝜆\n",
    "    L = lq + 𝜆/µ\n",
    "    W=L/𝜆\n",
    "    return(𝜌,p0,lq,L,wq,W) \n",
    "\n",
    "##### x! ##########\n",
    "def factorial(x):\n",
    "    if (x == 1) or (x==0):\n",
    "        return 1\n",
    "    else:\n",
    "        # recursive call to the function\n",
    "        return (x * factorial(x-1)) \n",
    "\n",
    "###################\n",
    "def user_defined_sum(c,𝜌):\n",
    "    sum = 0\n",
    "    for n in range(c):\n",
    "        sum += (c*𝜌)**n/factorial(n) \n",
    "\n",
    "    return 1/(sum + (c*𝜌)**c/(factorial(c)*(1-𝜌)))\n",
    "\n",
    "##### M/M/c ##########\n",
    "def m_m_c(𝜆,µ,c):\n",
    "    𝜌 = 𝜆/(c*µ)\n",
    "    p0 = user_defined_sum(c,𝜌)\n",
    "    lq = (c*𝜌)**c*p0*𝜌/(factorial(c)*(1-𝜌)**2)\n",
    "    wq = lq/𝜆\n",
    "    L = lq + 𝜆/µ\n",
    "    W=L/𝜆\n",
    "    return(𝜌,p0,lq,wq,L,W) \n",
    "\n",
    "######## G/G/C ###########\n",
    "def g_g_c(s,cv_s,a,cv_a,c):\n",
    "\n",
    "    𝜌 = s/(c*a)\n",
    "    wq = s/c * (cv_a**2+cv_s**2)/2 * 𝜌**(-1+math.sqrt(2*(c+1)))/(1- 𝜌)\n",
    "    \n",
    "    service_time = s \n",
    "    W = wq + s \n",
    "    L = W * 𝜆\n",
    "    lq = wq * 𝜆\n",
    "    return(𝜌,lq,wq,L,W)   "
   ]
  },
  {
   "cell_type": "markdown",
   "id": "09bf3bb7",
   "metadata": {},
   "source": [
    "# Scenario 1: Starbucks (Dedicated Queues with Two Servers) - Two M/M/1 "
   ]
  },
  {
   "cell_type": "code",
   "execution_count": 3,
   "id": "6c5c6bb8",
   "metadata": {},
   "outputs": [
    {
     "name": "stdout",
     "output_type": "stream",
     "text": [
      "Avg. Time in queue:0.38\n",
      "Avg. Time in system:0.4\n"
     ]
    }
   ],
   "source": [
    "𝜆 = 95/2  #arrival rate\n",
    "µ = 50    # service rate \n",
    "\n",
    "𝜌,p0,lq,L,wq,W = m_m_1(𝜆,µ)  \n",
    "print('Avg. Time in queue:{}'.format(round(wq,3)))\n",
    "print('Avg. Time in system:{}'.format(round(W,3)))"
   ]
  },
  {
   "cell_type": "markdown",
   "id": "c9c85d43",
   "metadata": {},
   "source": [
    "# Scenario 2: Starbucks (Combined Queues) - M/M/2"
   ]
  },
  {
   "cell_type": "code",
   "execution_count": 4,
   "id": "ee413986",
   "metadata": {},
   "outputs": [
    {
     "name": "stdout",
     "output_type": "stream",
     "text": [
      "Avg. Time in queue:0.185\n",
      "Avg. Time in system:0.205\n"
     ]
    }
   ],
   "source": [
    "𝜆 = 95  #arrival rate\n",
    "µ = 50    # service rate \n",
    "c =2\n",
    "𝜌,p0,lq,wq,L,W = m_m_c(𝜆,µ,c) \n",
    "print('Avg. Time in queue:{}'.format(round(wq,3)))\n",
    "print('Avg. Time in system:{}'.format(round(W,3)))"
   ]
  },
  {
   "cell_type": "markdown",
   "id": "39d06541",
   "metadata": {},
   "source": [
    "## Scenario 3: Starbucks (Tamdem Queues) - No improvement "
   ]
  },
  {
   "cell_type": "code",
   "execution_count": 5,
   "id": "6a77df4e",
   "metadata": {},
   "outputs": [
    {
     "name": "stdout",
     "output_type": "stream",
     "text": [
      "Avg. Time in queue:0.38\n",
      "Avg. Time in system:0.4\n"
     ]
    }
   ],
   "source": [
    "𝜆 = 95  #arrival rate\n",
    "µ = (50)*2    # service rate \n",
    "c = 1\n",
    "𝜌,p0,lq,wq,L,W = m_m_c(𝜆,µ,c) \n",
    "print('Avg. Time in queue:{}'.format(round(wq*2,3)))\n",
    "print('Avg. Time in system:{}'.format(round(W*2,3)))"
   ]
  },
  {
   "cell_type": "markdown",
   "id": "417da6e4",
   "metadata": {},
   "source": [
    "## Scenario 4: Starbucks (Tamdem Queues) - Service Speed up\n"
   ]
  },
  {
   "cell_type": "code",
   "execution_count": 6,
   "id": "36779246",
   "metadata": {},
   "outputs": [
    {
     "name": "stdout",
     "output_type": "stream",
     "text": [
      "Avg. Time in queue:0.181\n",
      "Avg. Time in system:0.2\n"
     ]
    }
   ],
   "source": [
    "𝜆 = 95  #arrival rate\n",
    "µ = 105   # service rate \n",
    "c = 1\n",
    "𝜌,p0,lq,wq,L,W = m_m_c(𝜆,µ,c) \n",
    "print('Avg. Time in queue:{}'.format(round(wq*2,3)))\n",
    "print('Avg. Time in system:{}'.format(round(W*2,3)))"
   ]
  }
 ],
 "metadata": {
  "kernelspec": {
   "display_name": "Python 3 (ipykernel)",
   "language": "python",
   "name": "python3"
  },
  "language_info": {
   "codemirror_mode": {
    "name": "ipython",
    "version": 3
   },
   "file_extension": ".py",
   "mimetype": "text/x-python",
   "name": "python",
   "nbconvert_exporter": "python",
   "pygments_lexer": "ipython3",
   "version": "3.9.12"
  }
 },
 "nbformat": 4,
 "nbformat_minor": 5
}

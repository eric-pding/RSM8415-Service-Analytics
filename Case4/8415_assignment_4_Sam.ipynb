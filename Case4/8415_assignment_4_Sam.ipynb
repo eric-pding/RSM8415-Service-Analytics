{
  "nbformat": 4,
  "nbformat_minor": 0,
  "metadata": {
    "colab": {
      "provenance": []
    },
    "kernelspec": {
      "name": "python3",
      "display_name": "Python 3"
    },
    "language_info": {
      "name": "python"
    }
  },
  "cells": [
    {
      "cell_type": "markdown",
      "source": [
        "Time arrival follows exp\n",
        "Service follows exp"
      ],
      "metadata": {
        "id": "Cg7vFKObeShJ"
      }
    },
    {
      "cell_type": "code",
      "source": [
        "pip install ciw\n"
      ],
      "metadata": {
        "colab": {
          "base_uri": "https://localhost:8080/"
        },
        "id": "kCeSAk4n7Y26",
        "outputId": "01d07f41-c9f0-446f-fed0-504e1a877e2a"
      },
      "execution_count": null,
      "outputs": [
        {
          "output_type": "stream",
          "name": "stdout",
          "text": [
            "Collecting ciw\n",
            "  Downloading Ciw-3.1.4-py3-none-any.whl (93 kB)\n",
            "\u001b[?25l     \u001b[90m━━━━━━━━━━━━━━━━━━━━━━━━━━━━━━━━━━━━━━━━\u001b[0m \u001b[32m0.0/93.8 kB\u001b[0m \u001b[31m?\u001b[0m eta \u001b[36m-:--:--\u001b[0m\r\u001b[2K     \u001b[91m━━━━━━━━━━━━━━━━━━━━━━━━━━━━━━━━━━━━━━━\u001b[0m\u001b[90m╺\u001b[0m \u001b[32m92.2/93.8 kB\u001b[0m \u001b[31m3.3 MB/s\u001b[0m eta \u001b[36m0:00:01\u001b[0m\r\u001b[2K     \u001b[90m━━━━━━━━━━━━━━━━━━━━━━━━━━━━━━━━━━━━━━━━\u001b[0m \u001b[32m93.8/93.8 kB\u001b[0m \u001b[31m2.3 MB/s\u001b[0m eta \u001b[36m0:00:00\u001b[0m\n",
            "\u001b[?25hRequirement already satisfied: networkx>=2.3 in /usr/local/lib/python3.10/dist-packages (from ciw) (3.2.1)\n",
            "Requirement already satisfied: tqdm>=4.64.0 in /usr/local/lib/python3.10/dist-packages (from ciw) (4.66.2)\n",
            "Requirement already satisfied: numpy>=1.21.6 in /usr/local/lib/python3.10/dist-packages (from ciw) (1.25.2)\n",
            "Installing collected packages: ciw\n",
            "Successfully installed ciw-3.1.4\n"
          ]
        }
      ]
    },
    {
      "cell_type": "code",
      "source": [
        "import ciw\n",
        "import matplotlib.pyplot as plt\n",
        "import pandas as pd ,seaborn as sns, numpy as np ,matplotlib.pyplot as plt\n",
        "import warnings\n",
        "import numpy as np\n",
        "import pandas as pd\n",
        "from scipy import stats\n",
        "from scipy.stats import expon, poisson,gamma\n",
        "import numpy as np\n",
        "from scipy.stats import ks_2samp, kstest\n",
        "import statsmodels.api as sm\n",
        "warnings.filterwarnings('ignore')\n",
        "np.random.seed(0)\n",
        "import matplotlib\n",
        "font = {#'family' : 'normal',\n",
        "        #'weight' : 'bold',\n",
        "        'size'   : 15}\n",
        "matplotlib.rc('font', **font)\n"
      ],
      "metadata": {
        "id": "KvuSRFnX67PG"
      },
      "execution_count": 14,
      "outputs": []
    },
    {
      "cell_type": "code",
      "execution_count": 13,
      "metadata": {
        "id": "xkMzobTc4uTW"
      },
      "outputs": [],
      "source": [
        "import math\n",
        "\n",
        "##### M/M/1##########\n",
        "def m_m_1(𝜆,µ,c=1):\n",
        "    𝜌 = 𝜆/µ\n",
        "    p0 = 1 - 𝜌\n",
        "    lq = 𝜌**2/(1-𝜌)\n",
        "    wq = lq/𝜆\n",
        "    L = lq + 𝜆/µ\n",
        "    W=L/𝜆\n",
        "    return(𝜌,p0,lq,L,wq,W)\n",
        "\n",
        "##### x! ##########\n",
        "def factorial(x):\n",
        "    if (x == 1) or (x==0):\n",
        "        return 1\n",
        "    else:\n",
        "        # recursive call to the function\n",
        "        return (x * factorial(x-1))\n",
        "\n",
        "###################\n",
        "def user_defined_sum(c,𝜌):\n",
        "    sum = 0\n",
        "    for n in range(c):\n",
        "        sum += (c*𝜌)**n/factorial(n)\n",
        "\n",
        "    return 1/(sum + (c*𝜌)**c/(factorial(c)*(1-𝜌)))\n",
        "\n",
        "##### M/M/c ##########\n",
        "def m_m_c(𝜆,µ,c):\n",
        "    𝜌 = 𝜆/(c*µ)\n",
        "    p0 = user_defined_sum(c,𝜌)\n",
        "    lq = (c*𝜌)**c*p0*𝜌/(factorial(c)*(1-𝜌)**2)\n",
        "    wq = lq/𝜆\n",
        "    L = lq + 𝜆/µ\n",
        "    W=L/𝜆\n",
        "    return(𝜌,p0,lq,wq,L,W)\n",
        "\n",
        "######## G/G/C ###########\n",
        "def g_g_c(s,cv_s,a,cv_a,c):\n",
        "\n",
        "    𝜌 = s/(c*a)\n",
        "    wq = s/c * (cv_a**2+cv_s**2)/2 * 𝜌**(-1+math.sqrt(2*(c+1)))/(1- 𝜌)\n",
        "\n",
        "    service_time = s\n",
        "    W = wq + s\n",
        "    L = W * 𝜆\n",
        "    lq = wq * 𝜆\n",
        "    return(𝜌,lq,wq,L,W)"
      ]
    },
    {
      "cell_type": "markdown",
      "source": [
        "1. What is the current level of activity in the queuing systems of Toronto and London? This includes factors like their utilization rate, wait times, and the length of their wait lists. Provide your thoughts on the findings (employ steady-state analytical methods to evaluate the performance of the systems).  "
      ],
      "metadata": {
        "id": "FRKF0UQ40oVQ"
      }
    },
    {
      "cell_type": "code",
      "source": [
        "# London\n",
        "def m_m_1(𝜆,µ,c=1):\n",
        "    𝜌 = 𝜆/µ\n",
        "    p0 = 1 - 𝜌\n",
        "    lq = 𝜌**2/(1-𝜌)\n",
        "    wq = lq/𝜆\n",
        "    L = lq + 𝜆/µ\n",
        "    W=L/𝜆\n",
        "    return(𝜌,p0,lq,L,wq,W)\n",
        "\n",
        "London_utilization, not_in_service, length_of_queue, length_of_system, time_in_queue, time_in_system = m_m_1(109.025, 110.047,c=1)\n",
        "print('London_utilization_rate:{}'.format(round(London_utilization,3)))\n",
        "print('London_length_of_wait_list:{}'.format(round(length_of_queue,3)))\n",
        "print('London_wait_time_inqueue:{}'.format(round(time_in_queue,3)))\n"
      ],
      "metadata": {
        "colab": {
          "base_uri": "https://localhost:8080/"
        },
        "id": "F_jCqvkW0pUU",
        "outputId": "2cfa7c68-4896-4e8a-ebd4-236087d3f775"
      },
      "execution_count": 43,
      "outputs": [
        {
          "output_type": "stream",
          "name": "stdout",
          "text": [
            "London_utilization_rate:0.991\n",
            "London_length_of_wait_list:105.687\n",
            "London_wait_time_inqueue:0.969\n"
          ]
        }
      ]
    },
    {
      "cell_type": "code",
      "source": [
        "# Toronto\n",
        "def m_m_1(𝜆,µ,c=1):\n",
        "    𝜌 = 𝜆/µ\n",
        "    p0 = 1 - 𝜌\n",
        "    lq = 𝜌**2/(1-𝜌)\n",
        "    wq = lq/𝜆\n",
        "    L = lq + 𝜆/µ\n",
        "    W=L/𝜆\n",
        "    return(𝜌,p0,lq,L,wq,W)\n",
        "\n",
        "Toronto_utilization, not_in_service, length_of_queue, length_of_system, time_in_queue, time_in_system = m_m_1(327.259, 327.514,c=1)\n",
        "print('Toronto_utilization_rate:{}'.format(round(Toronto_utilization,3)))\n",
        "print('Toronto_length_of_wait_list:{}'.format(round(length_of_queue,3)))\n",
        "print('Toronto_wait_time_inqueue:{}'.format(round(time_in_queue,3)))"
      ],
      "metadata": {
        "colab": {
          "base_uri": "https://localhost:8080/"
        },
        "id": "zYSVy70U3BuV",
        "outputId": "494acbb9-6286-49bf-ecd9-32a2af948c11"
      },
      "execution_count": 44,
      "outputs": [
        {
          "output_type": "stream",
          "name": "stdout",
          "text": [
            "Toronto_utilization_rate:0.999\n",
            "Toronto_length_of_wait_list:1282.369\n",
            "Toronto_wait_time_inqueue:3.919\n"
          ]
        }
      ]
    },
    {
      "cell_type": "markdown",
      "source": [
        "Both Toronto and London center are very busy as their utilization rate is very close to 1, therefore they have a long wait list and long wait time.\n",
        "\n"
      ],
      "metadata": {
        "id": "_Cp0Hnis3UYW"
      }
    },
    {
      "cell_type": "markdown",
      "source": [
        "2. Create three different queuing system designs and assess their performance compared to the existing setup. Determine which design would be most advantageous for the patients. Share your insights on the outcomes  (employ steady-state analytical methods to evaluate the performance of the systems)."
      ],
      "metadata": {
        "id": "c0qjA0Yk3kW7"
      }
    },
    {
      "cell_type": "code",
      "source": [
        "# Pooled Queues with Two Servers\n",
        "𝜆 = 109.025+327.259  #arrival rate\n",
        "µ = 110.047+327.514   # service rate\n",
        "c =2\n",
        "𝜌,p0,lq,wq,L,W = m_m_c(𝜆,µ,c)\n",
        "print('utilization_rate:{}'.format(round(𝜌,3)))\n",
        "print('length_of_wait_list:{}'.format(round(lq,3)))\n",
        "print('Avg. Time in queue:{}'.format(round(wq,3)))\n",
        "print('Avg. Time in system:{}'.format(round(W,3)))"
      ],
      "metadata": {
        "colab": {
          "base_uri": "https://localhost:8080/"
        },
        "id": "qWrXPBIi3rJg",
        "outputId": "9faa8b07-4411-4fa3-935a-6c33d9ef5cf5"
      },
      "execution_count": null,
      "outputs": [
        {
          "output_type": "stream",
          "name": "stdout",
          "text": [
            "utilization_rate:0.499\n",
            "length_of_wait_list:0.33\n",
            "Avg. Time in queue:0.001\n",
            "Avg. Time in system:0.003\n"
          ]
        }
      ]
    },
    {
      "cell_type": "code",
      "source": [
        "# combined Queues with one combined Servers\n",
        "𝜆 = 109.025+327.259  #arrival rate\n",
        "µ = 110.047+327.514   # service rate\n",
        "c =1\n",
        "𝜌,p0,lq,wq,L,W = m_m_c(𝜆,µ,c)\n",
        "print('utilization_rate:{}'.format(round(𝜌,3)))\n",
        "print('length_of_wait_list:{}'.format(round(lq,3)))\n",
        "print('Avg. Time in queue:{}'.format(round(wq,3)))\n",
        "print('Avg. Time in system:{}'.format(round(W,3)))"
      ],
      "metadata": {
        "colab": {
          "base_uri": "https://localhost:8080/"
        },
        "id": "1q9Xn51R5PTn",
        "outputId": "2991acc7-c9ec-4158-82a2-75ada4351d2a"
      },
      "execution_count": null,
      "outputs": [
        {
          "output_type": "stream",
          "name": "stdout",
          "text": [
            "utilization_rate:0.997\n",
            "length_of_wait_list:340.651\n",
            "Avg. Time in queue:0.781\n",
            "Avg. Time in system:0.783\n"
          ]
        }
      ]
    },
    {
      "cell_type": "markdown",
      "source": [
        "From the evaluation metrics, we can see that pooled queues with two servers have the smallest wait time and queue"
      ],
      "metadata": {
        "id": "WixKUm4S6LYT"
      }
    },
    {
      "cell_type": "markdown",
      "source": [
        "3. Conduct discrete event simulations to evaluate how variability in both arrival and service processes affects the original waitlist and the proposed design from question 2."
      ],
      "metadata": {
        "id": "_QSDTYdM6YTv"
      }
    },
    {
      "cell_type": "code",
      "source": [
        "l = 109.025 # arrival rate to London\n",
        "mu = 110.047 # service rate to London\n",
        "c = 1\n",
        "decimal = 4\n",
        "N = ciw.create_network(\n",
        "    arrival_distributions=[ciw.dists.Exponential(rate=l)],\n",
        "    service_distributions=[ciw.dists.Exponential(rate=mu)],\n",
        "    number_of_servers=[1])"
      ],
      "metadata": {
        "id": "3ge4aa6n6cCc"
      },
      "execution_count": 27,
      "outputs": []
    },
    {
      "cell_type": "code",
      "source": [
        "seeds = [i for i in range(0, 100)]\n",
        "avg_wait_time = []\n",
        "for s in seeds:\n",
        "  ciw.seed(s)\n",
        "  Q = ciw.Simulation(N, tracker=ciw.trackers.SystemPopulation())\n",
        "\n",
        "  # Stopping Criteria\n",
        "  Q.simulate_until_max_customers(1000)\n",
        "  #Q.simulate_until_max_time(10000)\n",
        "\n",
        "  recs = Q.get_all_records()\n",
        "  df = pd.DataFrame(recs)\n",
        "  df.sort_values(by='arrival_date',inplace=True)\n",
        "  df['inter_arrival'] = df.arrival_date - df.arrival_date.shift(1,fill_value=0)\n",
        "  df['system_time'] = df.exit_date - df.arrival_date\n",
        "  df[['id_number','server_id','arrival_date','waiting_time','service_start_date','server_id','service_time','service_end_date','exit_date','queue_size_at_arrival','queue_size_at_departure']]\n",
        "  avg_wait_time.append(df['waiting_time'].mean())\n",
        "\n",
        "\n"
      ],
      "metadata": {
        "id": "AWoHFZ-9AyMI"
      },
      "execution_count": 19,
      "outputs": []
    },
    {
      "cell_type": "code",
      "source": [
        "sum(avg_wait_time)/len(avg_wait_time)"
      ],
      "metadata": {
        "colab": {
          "base_uri": "https://localhost:8080/"
        },
        "id": "BWuY7k8cBlqt",
        "outputId": "6ee83958-2510-4b31-93a8-15c46e92e8bd"
      },
      "execution_count": 25,
      "outputs": [
        {
          "output_type": "execute_result",
          "data": {
            "text/plain": [
              "0.18909281433478445"
            ]
          },
          "metadata": {},
          "execution_count": 25
        }
      ]
    },
    {
      "cell_type": "markdown",
      "source": [
        "average waiting time is 0.189 year in london by using simulation"
      ],
      "metadata": {
        "id": "83xnhm5zCAPt"
      }
    },
    {
      "cell_type": "code",
      "source": [
        "l = 327.259 # arrival rate to Toronto\n",
        "mu = 327.514 # service rate to Toronto\n",
        "c = 1\n",
        "decimal = 4\n",
        "N = ciw.create_network(\n",
        "    arrival_distributions=[ciw.dists.Exponential(rate=l)],\n",
        "    service_distributions=[ciw.dists.Exponential(rate=mu)],\n",
        "    number_of_servers=[c])"
      ],
      "metadata": {
        "id": "WcmSrMsECGp5"
      },
      "execution_count": 29,
      "outputs": []
    },
    {
      "cell_type": "code",
      "source": [
        "seeds = [i for i in range(0, 100)]\n",
        "avg_wait_time = []\n",
        "for s in seeds:\n",
        "  ciw.seed(s)\n",
        "  Q = ciw.Simulation(N, tracker=ciw.trackers.SystemPopulation())\n",
        "\n",
        "  # Stopping Criteria\n",
        "  Q.simulate_until_max_customers(1000)\n",
        "  #Q.simulate_until_max_time(10000)\n",
        "\n",
        "  recs = Q.get_all_records()\n",
        "  df = pd.DataFrame(recs)\n",
        "  df.sort_values(by='arrival_date',inplace=True)\n",
        "  df['inter_arrival'] = df.arrival_date - df.arrival_date.shift(1,fill_value=0)\n",
        "  df['system_time'] = df.exit_date - df.arrival_date\n",
        "  df[['id_number','server_id','arrival_date','waiting_time','service_start_date','server_id','service_time','service_end_date','exit_date','queue_size_at_arrival','queue_size_at_departure']]\n",
        "  avg_wait_time.append(df['waiting_time'].mean())\n",
        "\n",
        "\n"
      ],
      "metadata": {
        "id": "OoIxMFCdCYI_"
      },
      "execution_count": 30,
      "outputs": []
    },
    {
      "cell_type": "code",
      "source": [
        "sum(avg_wait_time)/len(avg_wait_time)"
      ],
      "metadata": {
        "colab": {
          "base_uri": "https://localhost:8080/"
        },
        "id": "draKHsXPCu1w",
        "outputId": "998ff828-62e9-48ae-8974-73c3f1ce17d7"
      },
      "execution_count": 31,
      "outputs": [
        {
          "output_type": "execute_result",
          "data": {
            "text/plain": [
              "0.07740451921415953"
            ]
          },
          "metadata": {},
          "execution_count": 31
        }
      ]
    },
    {
      "cell_type": "markdown",
      "source": [
        "average waiting time is 0.077 year in Toronto by using simulation"
      ],
      "metadata": {
        "id": "1kRyfVyaC0qx"
      }
    },
    {
      "cell_type": "code",
      "source": [
        "# Pooled Queues with Two Servers\n",
        "l = 109.025+327.259  #arrival rate\n",
        "mu = 110.047+327.514   # service rate\n",
        "c =2\n",
        "decimal = 4\n",
        "N = ciw.create_network(\n",
        "    arrival_distributions=[ciw.dists.Exponential(rate=l)],\n",
        "    service_distributions=[ciw.dists.Exponential(rate=mu)],\n",
        "    number_of_servers=[c])"
      ],
      "metadata": {
        "id": "re6XujNILjeW"
      },
      "execution_count": 34,
      "outputs": []
    },
    {
      "cell_type": "code",
      "source": [
        "seeds = [i for i in range(0, 100)]\n",
        "avg_wait_time = []\n",
        "for s in seeds:\n",
        "  ciw.seed(s)\n",
        "  Q = ciw.Simulation(N, tracker=ciw.trackers.SystemPopulation())\n",
        "\n",
        "  # Stopping Criteria\n",
        "  Q.simulate_until_max_customers(1000)\n",
        "  #Q.simulate_until_max_time(10000)\n",
        "\n",
        "  recs = Q.get_all_records()\n",
        "  df = pd.DataFrame(recs)\n",
        "  df.sort_values(by='arrival_date',inplace=True)\n",
        "  df['inter_arrival'] = df.arrival_date - df.arrival_date.shift(1,fill_value=0)\n",
        "  df['system_time'] = df.exit_date - df.arrival_date\n",
        "  df[['id_number','server_id','arrival_date','waiting_time','service_start_date','server_id','service_time','service_end_date','exit_date','queue_size_at_arrival','queue_size_at_departure']]\n",
        "  avg_wait_time.append(df['waiting_time'].mean())\n",
        "\n",
        "\n"
      ],
      "metadata": {
        "id": "23NL2XiBLudr"
      },
      "execution_count": 35,
      "outputs": []
    },
    {
      "cell_type": "code",
      "source": [
        "sum(avg_wait_time)/len(avg_wait_time)"
      ],
      "metadata": {
        "colab": {
          "base_uri": "https://localhost:8080/"
        },
        "id": "9tTpj5YeLy5E",
        "outputId": "f0c0d696-55f6-4630-88f7-439e66c70b80"
      },
      "execution_count": 36,
      "outputs": [
        {
          "output_type": "execute_result",
          "data": {
            "text/plain": [
              "0.0007424153693518712"
            ]
          },
          "metadata": {},
          "execution_count": 36
        }
      ]
    },
    {
      "cell_type": "code",
      "source": [
        "def compute_simu_average(l,mu,c):\n",
        "  N = ciw.create_network(\n",
        "    arrival_distributions=[ciw.dists.Exponential(rate=l)],\n",
        "    service_distributions=[ciw.dists.Exponential(rate=mu)],\n",
        "    number_of_servers=[c])\n",
        "  seeds = [i for i in range(0, 100)]\n",
        "  avg_wait_time = []\n",
        "  for s in seeds:\n",
        "    ciw.seed(s)\n",
        "    Q = ciw.Simulation(N, tracker=ciw.trackers.SystemPopulation())\n",
        "\n",
        "    # Stopping Criteria\n",
        "    Q.simulate_until_max_customers(1000)\n",
        "    #Q.simulate_until_max_time(10000)\n",
        "\n",
        "    recs = Q.get_all_records()\n",
        "    df = pd.DataFrame(recs)\n",
        "    df.sort_values(by='arrival_date',inplace=True)\n",
        "    df['inter_arrival'] = df.arrival_date - df.arrival_date.shift(1,fill_value=0)\n",
        "    df['system_time'] = df.exit_date - df.arrival_date\n",
        "    df[['id_number','server_id','arrival_date','waiting_time','service_start_date','server_id','service_time','service_end_date','exit_date','queue_size_at_arrival','queue_size_at_departure']]\n",
        "    avg_wait_time.append(df['waiting_time'].mean())\n",
        "\n",
        "  print(sum(avg_wait_time)/len(avg_wait_time))\n"
      ],
      "metadata": {
        "id": "guPZQBf5Mf31"
      },
      "execution_count": 39,
      "outputs": []
    },
    {
      "cell_type": "markdown",
      "source": [
        "average waiting time is 0.00074 year by using simulation"
      ],
      "metadata": {
        "id": "1kujkiDOL17d"
      }
    },
    {
      "cell_type": "code",
      "source": [
        "plt.figure(figsize=(12,4))\n",
        "sns.distplot(df['inter_arrival'],kde=False,bins=20)\n",
        "plt.title('Time between Arrivals Distribution')\n",
        "plt.xlabel('Year')\n",
        "plt.ylabel('Frequency')\n",
        "sns.despine()\n",
        "plt.show()\n",
        "\n",
        "plt.figure(figsize=(12,4))\n",
        "sns.distplot(df['service_time'],kde=False,bins=20)\n",
        "plt.title('Service Times Distribution')\n",
        "plt.xlabel('Year')\n",
        "plt.ylabel('Frequency')\n",
        "sns.despine()\n",
        "plt.show()\n"
      ],
      "metadata": {
        "colab": {
          "base_uri": "https://localhost:8080/",
          "height": 837
        },
        "id": "BXe7WSNV7uGO",
        "outputId": "e4670be4-0074-4e95-c432-d30a4b0ee24e"
      },
      "execution_count": 33,
      "outputs": [
        {
          "output_type": "display_data",
          "data": {
            "text/plain": [
              "<Figure size 1200x400 with 1 Axes>"
            ],
            "image/png": "[encoded data removed]"
          },
          "metadata": {}
        },
        {
          "output_type": "display_data",
          "data": {
            "text/plain": [
              "<Figure size 1200x400 with 1 Axes>"
            ],
            "image/png": "[encoded data removed]"
          },
          "metadata": {}
        }
      ]
    },
    {
      "cell_type": "markdown",
      "source": [
        "4. Explore the potential consequences for the original waitlist if patient arrivals were to increase by 5%. Utilize both simulation techniques and steady-state analytical solutions to analyze the scenario."
      ],
      "metadata": {
        "id": "rDp5X6VLF4jn"
      }
    },
    {
      "cell_type": "code",
      "source": [
        "l = 109.025*1.05 # arrival rate to London\n",
        "mu = 110.047 # service rate to London\n",
        "c = 1\n",
        "compute_simu_average(l,mu,c)"
      ],
      "metadata": {
        "colab": {
          "base_uri": "https://localhost:8080/"
        },
        "id": "XU5YxDs7F5ZA",
        "outputId": "defc758e-738e-4e3a-de45-2dafae016efe"
      },
      "execution_count": 40,
      "outputs": [
        {
          "output_type": "stream",
          "name": "stdout",
          "text": [
            "0.27882972277882634\n"
          ]
        }
      ]
    },
    {
      "cell_type": "markdown",
      "source": [
        "average waiting time increases from 0.189 year to 0.279 year in Toronto using simulation"
      ],
      "metadata": {
        "id": "mBNBiM-fOAXj"
      }
    },
    {
      "cell_type": "code",
      "source": [
        "l = 327.259*1.05 # arrival rate to Toronto\n",
        "mu = 327.514 # service rate to Toronto\n",
        "c = 1\n",
        "compute_simu_average(l,mu,c)"
      ],
      "metadata": {
        "colab": {
          "base_uri": "https://localhost:8080/"
        },
        "id": "-KaQ8MU_NdRt",
        "outputId": "70df5bd3-90e0-4908-a361-5e6810722a7c"
      },
      "execution_count": 41,
      "outputs": [
        {
          "output_type": "stream",
          "name": "stdout",
          "text": [
            "0.11200069612950728\n"
          ]
        }
      ]
    },
    {
      "cell_type": "markdown",
      "source": [
        "average waiting time increases from 0.077 year to 0.112 year in Toronto using simulation"
      ],
      "metadata": {
        "id": "PqQej_78OVHC"
      }
    },
    {
      "cell_type": "code",
      "source": [
        "# Pooled Queues with Two Servers\n",
        "l = (109.025+327.259)*1.05  #arrival rate\n",
        "mu = 110.047+327.514   # service rate\n",
        "c =2\n",
        "compute_simu_average(l,mu,c)"
      ],
      "metadata": {
        "colab": {
          "base_uri": "https://localhost:8080/"
        },
        "id": "NPUYzpyhNlUo",
        "outputId": "656f4117-68e4-4d60-9b2b-9ee240cb4c1e"
      },
      "execution_count": 42,
      "outputs": [
        {
          "output_type": "stream",
          "name": "stdout",
          "text": [
            "0.0008648347705110005\n"
          ]
        }
      ]
    },
    {
      "cell_type": "markdown",
      "source": [
        "average waiting time increases from 0.00074 year to 0.000864 year of proposed queue system using simulation"
      ],
      "metadata": {
        "id": "Kx0Hz6VPOcL8"
      }
    },
    {
      "cell_type": "code",
      "source": [
        "# London\n",
        "def m_m_1(𝜆,µ,c=1):\n",
        "    𝜌 = 𝜆/µ\n",
        "    p0 = 1 - 𝜌\n",
        "    lq = 𝜌**2/(1-𝜌)\n",
        "    wq = lq/𝜆\n",
        "    L = lq + 𝜆/µ\n",
        "    W=L/𝜆\n",
        "    return(𝜌,p0,lq,L,wq,W)\n",
        "\n",
        "London_utilization, not_in_service, length_of_queue, length_of_system, time_in_queue, time_in_system = m_m_1(109.025*1.05, 110.047,c=1)\n",
        "print('London_utilization_rate:{}'.format(round(London_utilization,3)))\n",
        "print('London_length_of_wait_list:{}'.format(round(length_of_queue,3)))\n",
        "print('London_wait_time_inqueue:{}'.format(round(time_in_queue,3)))"
      ],
      "metadata": {
        "colab": {
          "base_uri": "https://localhost:8080/"
        },
        "id": "PUQ18F84OpOi",
        "outputId": "d32b37e2-4448-4af6-df2d-4be4902ef1fd"
      },
      "execution_count": 45,
      "outputs": [
        {
          "output_type": "stream",
          "name": "stdout",
          "text": [
            "London_utilization_rate:1.04\n",
            "London_length_of_wait_list:-26.886\n",
            "London_wait_time_inqueue:-0.235\n"
          ]
        }
      ]
    },
    {
      "cell_type": "code",
      "source": [
        "# Toronto\n",
        "def m_m_1(𝜆,µ,c=1):\n",
        "    𝜌 = 𝜆/µ\n",
        "    p0 = 1 - 𝜌\n",
        "    lq = 𝜌**2/(1-𝜌)\n",
        "    wq = lq/𝜆\n",
        "    L = lq + 𝜆/µ\n",
        "    W=L/𝜆\n",
        "    return(𝜌,p0,lq,L,wq,W)\n",
        "\n",
        "Toronto_utilization, not_in_service, length_of_queue, length_of_system, time_in_queue, time_in_system = m_m_1(327.259*1.05, 327.514,c=1)\n",
        "print('Toronto_utilization_rate:{}'.format(round(Toronto_utilization,3)))\n",
        "print('Toronto_length_of_wait_list:{}'.format(round(length_of_queue,3)))\n",
        "print('Toronto_wait_time_inqueue:{}'.format(round(time_in_queue,3)))"
      ],
      "metadata": {
        "colab": {
          "base_uri": "https://localhost:8080/"
        },
        "id": "4k6-WpicPnU4",
        "outputId": "0fe60a19-21a5-4c07-ddd7-9f473da833a1"
      },
      "execution_count": 46,
      "outputs": [
        {
          "output_type": "stream",
          "name": "stdout",
          "text": [
            "Toronto_utilization_rate:1.049\n",
            "Toronto_length_of_wait_list:-22.382\n",
            "Toronto_wait_time_inqueue:-0.065\n"
          ]
        }
      ]
    },
    {
      "cell_type": "markdown",
      "source": [
        "If we increase the arival rate by 5%, utilization rate is greater than 1, it will cause Customers Wait /Block/Balk/Renege"
      ],
      "metadata": {
        "id": "VI_4uIPsPMY4"
      }
    },
    {
      "cell_type": "code",
      "source": [
        "# Pooled Queues with Two Servers\n",
        "𝜆 = (109.025+327.259)*1.05  #arrival rate\n",
        "µ = 110.047+327.514   # service rate\n",
        "c =2\n",
        "𝜌,p0,lq,wq,L,W = m_m_c(𝜆,µ,c)\n",
        "print('utilization_rate:{}'.format(round(𝜌,3)))\n",
        "print('length_of_wait_list:{}'.format(round(lq,3)))\n",
        "print('Avg. Time in queue:{}'.format(round(wq,3)))\n",
        "print('Avg. Time in system:{}'.format(round(W,3)))"
      ],
      "metadata": {
        "colab": {
          "base_uri": "https://localhost:8080/"
        },
        "id": "v8iUIBz4Pxvt",
        "outputId": "554241e0-c0b2-4741-d29c-608cc608cd4d"
      },
      "execution_count": 47,
      "outputs": [
        {
          "output_type": "stream",
          "name": "stdout",
          "text": [
            "utilization_rate:0.523\n",
            "length_of_wait_list:0.395\n",
            "Avg. Time in queue:0.001\n",
            "Avg. Time in system:0.003\n"
          ]
        }
      ]
    },
    {
      "cell_type": "markdown",
      "source": [
        "If we increase the arival rate by 5%, the pooled queues with two servers will have longer wait time and queue with higher utilization rate"
      ],
      "metadata": {
        "id": "6CfTYHLGP67R"
      }
    },
    {
      "cell_type": "markdown",
      "source": [
        "5. What specific recommendations would you make to improve the system?"
      ],
      "metadata": {
        "id": "EvrlpIdbPas0"
      }
    },
    {
      "cell_type": "markdown",
      "source": [
        "Implement the pooled queue with two servers system, we should merge the waiting pool of Toronto and London, having two servers running at the same time, in this way, we can effectively reduct waiting time and waiting queue"
      ],
      "metadata": {
        "id": "uc3z8cbZQKse"
      }
    }
  ]
}
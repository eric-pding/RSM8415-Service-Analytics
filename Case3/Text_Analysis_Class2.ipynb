{
 "cells": [
  {
   "cell_type": "code",
   "execution_count": 3,
   "id": "3958ef8d",
   "metadata": {},
   "outputs": [
    {
     "name": "stderr",
     "output_type": "stream",
     "text": [
      "[nltk_data] Downloading package punkt to\n",
      "[nltk_data]     C:\\Users\\Vahid\\AppData\\Roaming\\nltk_data...\n",
      "[nltk_data]   Package punkt is already up-to-date!\n",
      "[nltk_data] Downloading package stopwords to\n",
      "[nltk_data]     C:\\Users\\Vahid\\AppData\\Roaming\\nltk_data...\n",
      "[nltk_data]   Package stopwords is already up-to-date!\n",
      "[nltk_data] Downloading package stopwords to\n",
      "[nltk_data]     C:\\Users\\Vahid\\AppData\\Roaming\\nltk_data...\n",
      "[nltk_data]   Package stopwords is already up-to-date!\n",
      "[nltk_data] Downloading package wordnet to\n",
      "[nltk_data]     C:\\Users\\Vahid\\AppData\\Roaming\\nltk_data...\n",
      "[nltk_data]   Package wordnet is already up-to-date!\n",
      "[nltk_data] Downloading package averaged_perceptron_tagger to\n",
      "[nltk_data]     C:\\Users\\Vahid\\AppData\\Roaming\\nltk_data...\n",
      "[nltk_data]   Package averaged_perceptron_tagger is already up-to-\n",
      "[nltk_data]       date!\n"
     ]
    }
   ],
   "source": [
    "#!pip3 install googletrans==3.1.0a0\n",
    "import os\n",
    "import pandas as pd\n",
    "import nltk\n",
    "nltk.download('punkt')\n",
    "from nltk.corpus import stopwords\n",
    "nltk.download('stopwords')\n",
    "from nltk.stem.porter import PorterStemmer\n",
    "import numpy as np\n",
    "from autocorrect import Speller\n",
    "from googletrans import Translator, constants\n",
    "from matplotlib import pyplot as plt\n",
    "import re\n",
    "from nltk.corpus import stopwords\n",
    "from nltk import pos_tag\n",
    "nltk.download('stopwords')\n",
    "nltk.download('wordnet')\n",
    "from nltk.corpus import wordnet\n",
    "nltk.download('averaged_perceptron_tagger')\n",
    "from sklearn.feature_extraction.text import CountVectorizer\n",
    "from sklearn.feature_extraction.text import TfidfVectorizer\n",
    "from sklearn.feature_extraction.text import CountVectorizer\n",
    "from sklearn.feature_selection import chi2\n",
    "from sklearn.feature_selection import SelectKBest\n",
    "import numpy as geek\n",
    "#import researchpy as rp\n",
    "from sklearn.metrics import plot_confusion_matrix\n",
    "from sklearn.metrics import roc_auc_score\n",
    "from sklearn.preprocessing import OneHotEncoder\n",
    "from itertools import cycle\n",
    "from sklearn.naive_bayes import GaussianNB, BernoulliNB, MultinomialNB\n",
    "from sklearn import metrics\n",
    "from sklearn.metrics import classification_report,confusion_matrix,roc_curve,auc\n",
    "from imblearn.over_sampling import SMOTE\n",
    "from imblearn.under_sampling import NearMiss\n",
    "from textblob import TextBlob\n",
    "import seaborn as sns\n",
    "from nltk.stem import WordNetLemmatizer\n",
    "from nltk.stem.wordnet import WordNetLemmatizer\n",
    "from nltk import word_tokenize\n",
    "\n",
    "from sklearn import datasets\n",
    "from sklearn.model_selection import train_test_split\n",
    "from sklearn.metrics import classification_report"
   ]
  },
  {
   "cell_type": "markdown",
   "id": "19141d1f",
   "metadata": {},
   "source": [
    "# Bayes Multi-Classification"
   ]
  },
  {
   "cell_type": "code",
   "execution_count": 4,
   "id": "d7424385",
   "metadata": {},
   "outputs": [],
   "source": [
    "mnb = MultinomialNB()"
   ]
  },
  {
   "cell_type": "code",
   "execution_count": 5,
   "id": "e45a7e23",
   "metadata": {},
   "outputs": [
    {
     "data": {
      "text/plain": [
       "array([2, 1, 0, 2, 0, 2, 0, 1, 1, 1, 2, 1, 1, 1, 2, 0, 2, 2, 0, 0, 2, 2,\n",
       "       0, 0, 2, 0, 0, 1, 1, 0, 2, 2, 0, 2, 2, 2, 0, 2, 1, 1, 2, 0, 2, 0,\n",
       "       0, 1, 2, 2, 2, 2, 1, 2, 1, 1, 2, 2, 2, 2, 1, 2])"
      ]
     },
     "execution_count": 5,
     "metadata": {},
     "output_type": "execute_result"
    }
   ],
   "source": [
    "iris = datasets.load_iris()\n",
    "  \n",
    "# X -> features, y -> label\n",
    "X = iris.data\n",
    "y = iris.target\n",
    "  \n",
    "# dividing X, y into train and test data\n",
    "X_train, X_test, y_train, y_test = train_test_split(X, y, test_size=.4,random_state = 0)  \n",
    "bayes = mnb.fit(X_train, y_train)\n",
    "y_pred = bayes.predict(X_test)\n",
    "y_pred"
   ]
  },
  {
   "cell_type": "markdown",
   "id": "2fcfd17f",
   "metadata": {},
   "source": [
    "# Hard-Classifier Performance Evaluation"
   ]
  },
  {
   "cell_type": "code",
   "execution_count": 6,
   "id": "73562e61",
   "metadata": {},
   "outputs": [
    {
     "data": {
      "image/png": "[encoded data removed]",
      "text/plain": [
       "<Figure size 360x288 with 2 Axes>"
      ]
     },
     "metadata": {
      "needs_background": "light"
     },
     "output_type": "display_data"
    },
    {
     "name": "stdout",
     "output_type": "stream",
     "text": [
      "              precision    recall  f1-score   support\n",
      "\n",
      "           0       1.00      1.00      1.00        16\n",
      "           1       1.00      0.70      0.82        23\n",
      "           2       0.75      1.00      0.86        21\n",
      "\n",
      "    accuracy                           0.88        60\n",
      "   macro avg       0.92      0.90      0.89        60\n",
      "weighted avg       0.91      0.88      0.88        60\n",
      "\n"
     ]
    }
   ],
   "source": [
    "cf_matrix=confusion_matrix(y_test,y_pred)\n",
    "\n",
    "cm_df = pd.DataFrame(cf_matrix,\n",
    "                     index = ['0','1','2'], \n",
    "                     columns = ['0','1','2'])\n",
    "\n",
    "plt.figure(figsize=(5,4))\n",
    "sns.heatmap(cm_df, annot=True)\n",
    "plt.title('Confusion Matrix')\n",
    "plt.ylabel('Predicted Values')\n",
    "plt.xlabel('Actual Values')\n",
    "plt.show()\n",
    "\n",
    "\n",
    "print(classification_report(y_test, y_pred))"
   ]
  },
  {
   "cell_type": "markdown",
   "id": "37f20ce2",
   "metadata": {},
   "source": [
    "# Soft-Classifier Performance Evaluation"
   ]
  },
  {
   "cell_type": "code",
   "execution_count": 7,
   "id": "5aad75b3",
   "metadata": {},
   "outputs": [
    {
     "data": {
      "text/plain": [
       "array([[0.00783661, 0.41867487, 0.57348853],\n",
       "       [0.08855967, 0.47074124, 0.44069909],\n",
       "       [0.85679748, 0.09472119, 0.04848132],\n",
       "       [0.01094811, 0.45808573, 0.53096616],\n",
       "       [0.7595699 , 0.15142652, 0.08900358],\n",
       "       [0.00518724, 0.41755658, 0.57725618],\n",
       "       [0.77171454, 0.14407695, 0.08420851],\n",
       "       [0.05311295, 0.48318089, 0.46370615],\n",
       "       [0.04873511, 0.48297385, 0.46829104],\n",
       "       [0.08487268, 0.47345103, 0.4416763 ],\n",
       "       [0.02094324, 0.45977954, 0.51927722],\n",
       "       [0.06093764, 0.48022942, 0.45883294],\n",
       "       [0.0593658 , 0.47721607, 0.46341813],\n",
       "       [0.04623285, 0.47706127, 0.47670588],\n",
       "       [0.04803415, 0.47436426, 0.47760159],\n",
       "       [0.81132726, 0.12085781, 0.06781493],\n",
       "       [0.04746142, 0.47140607, 0.48113251],\n",
       "       [0.05816131, 0.46741805, 0.47442065],\n",
       "       [0.69253167, 0.18822443, 0.1192439 ],\n",
       "       [0.80105375, 0.12801699, 0.07092926],\n",
       "       [0.01536465, 0.43870254, 0.54593281],\n",
       "       [0.04627957, 0.46674321, 0.48697721],\n",
       "       [0.69269386, 0.18973015, 0.117576  ],\n",
       "       [0.69223584, 0.18690868, 0.12085548],\n",
       "       [0.02488231, 0.46006059, 0.51505709],\n",
       "       [0.82570234, 0.11117015, 0.06312751],\n",
       "       [0.69618719, 0.18912002, 0.11469279],\n",
       "       [0.07428131, 0.47706937, 0.44864932],\n",
       "       [0.1235643 , 0.45094754, 0.42548816],\n",
       "       [0.68966207, 0.19135766, 0.11898028],\n",
       "       [0.01844279, 0.45962544, 0.52193177],\n",
       "       [0.0444134 , 0.46371588, 0.49187072],\n",
       "       [0.77714343, 0.14178224, 0.08107433],\n",
       "       [0.02543226, 0.46092812, 0.51363962],\n",
       "       [0.00814798, 0.43096594, 0.56088608],\n",
       "       [0.06318476, 0.46131885, 0.47549639],\n",
       "       [0.7752298 , 0.14468206, 0.08008815],\n",
       "       [0.02380986, 0.45870233, 0.5174878 ],\n",
       "       [0.06092865, 0.47179429, 0.46727706],\n",
       "       [0.08171413, 0.46976756, 0.44851831],\n",
       "       [0.01242996, 0.4504889 , 0.53708114],\n",
       "       [0.75419833, 0.15316741, 0.09263425],\n",
       "       [0.01370778, 0.45198948, 0.53430274],\n",
       "       [0.64077206, 0.21842193, 0.14080601],\n",
       "       [0.80307741, 0.12702824, 0.06989436],\n",
       "       [0.09213233, 0.45550552, 0.45236215],\n",
       "       [0.0177645 , 0.45927215, 0.52296335],\n",
       "       [0.00710211, 0.43140437, 0.56149352],\n",
       "       [0.02199034, 0.45412537, 0.52388428],\n",
       "       [0.01103117, 0.44626654, 0.5427023 ],\n",
       "       [0.09072882, 0.46632966, 0.44294152],\n",
       "       [0.00725636, 0.44609427, 0.54664936],\n",
       "       [0.04792464, 0.47759729, 0.47447807],\n",
       "       [0.09027135, 0.46425727, 0.44547138],\n",
       "       [0.02226702, 0.45840975, 0.51932323],\n",
       "       [0.03086979, 0.46972733, 0.49940288],\n",
       "       [0.02271476, 0.43937765, 0.53790759],\n",
       "       [0.01598066, 0.44798842, 0.53603092],\n",
       "       [0.06810183, 0.48933492, 0.44256326],\n",
       "       [0.01677712, 0.4548815 , 0.52834137]])"
      ]
     },
     "execution_count": 7,
     "metadata": {},
     "output_type": "execute_result"
    }
   ],
   "source": [
    "# Generate class membership probabilities\n",
    "y_preb_probs = mnb.predict_proba(X_test)\n",
    "y_preb_probs"
   ]
  },
  {
   "cell_type": "code",
   "execution_count": 8,
   "id": "9e9d16ff",
   "metadata": {},
   "outputs": [
    {
     "data": {
      "text/plain": [
       "array([[0., 0., 1.],\n",
       "       [0., 1., 0.],\n",
       "       [1., 0., 0.],\n",
       "       [0., 0., 1.],\n",
       "       [1., 0., 0.],\n",
       "       [0., 0., 1.],\n",
       "       [1., 0., 0.],\n",
       "       [0., 1., 0.],\n",
       "       [0., 1., 0.],\n",
       "       [0., 1., 0.],\n",
       "       [0., 0., 1.],\n",
       "       [0., 1., 0.],\n",
       "       [0., 1., 0.],\n",
       "       [0., 1., 0.],\n",
       "       [0., 1., 0.],\n",
       "       [1., 0., 0.],\n",
       "       [0., 1., 0.],\n",
       "       [0., 1., 0.],\n",
       "       [1., 0., 0.],\n",
       "       [1., 0., 0.],\n",
       "       [0., 0., 1.],\n",
       "       [0., 1., 0.],\n",
       "       [1., 0., 0.],\n",
       "       [1., 0., 0.],\n",
       "       [0., 0., 1.],\n",
       "       [1., 0., 0.],\n",
       "       [1., 0., 0.],\n",
       "       [0., 1., 0.],\n",
       "       [0., 1., 0.],\n",
       "       [1., 0., 0.],\n",
       "       [0., 0., 1.],\n",
       "       [0., 1., 0.],\n",
       "       [1., 0., 0.],\n",
       "       [0., 0., 1.],\n",
       "       [0., 0., 1.],\n",
       "       [0., 1., 0.],\n",
       "       [1., 0., 0.],\n",
       "       [0., 1., 0.],\n",
       "       [0., 1., 0.],\n",
       "       [0., 1., 0.],\n",
       "       [0., 0., 1.],\n",
       "       [1., 0., 0.],\n",
       "       [0., 0., 1.],\n",
       "       [1., 0., 0.],\n",
       "       [1., 0., 0.],\n",
       "       [0., 1., 0.],\n",
       "       [0., 0., 1.],\n",
       "       [0., 0., 1.],\n",
       "       [0., 0., 1.],\n",
       "       [0., 0., 1.],\n",
       "       [0., 1., 0.],\n",
       "       [0., 0., 1.],\n",
       "       [0., 1., 0.],\n",
       "       [0., 1., 0.],\n",
       "       [0., 0., 1.],\n",
       "       [0., 0., 1.],\n",
       "       [0., 0., 1.],\n",
       "       [0., 0., 1.],\n",
       "       [0., 1., 0.],\n",
       "       [0., 0., 1.]])"
      ]
     },
     "execution_count": 8,
     "metadata": {},
     "output_type": "execute_result"
    }
   ],
   "source": [
    "y_valid = pd.DataFrame(y_test)\n",
    "onehotencoder = OneHotEncoder()\n",
    "y_valid = onehotencoder.fit_transform(y_valid).toarray()\n",
    "y_valid"
   ]
  },
  {
   "cell_type": "code",
   "execution_count": 9,
   "id": "b9517d5a",
   "metadata": {},
   "outputs": [
    {
     "data": {
      "text/plain": [
       "98.19417769843679"
      ]
     },
     "execution_count": 9,
     "metadata": {},
     "output_type": "execute_result"
    }
   ],
   "source": [
    "Entropy1 = -sum([np.dot(y_valid[i], np.log2(y_preb_probs[i])) for i in range(len(y_preb_probs))])\n",
    "Entropy2 = -sum([np.dot(1-y_valid[i], np.log2(1-y_preb_probs[i])) for i in range(len(y_preb_probs))])\n",
    "Entropy1+ Entropy2"
   ]
  },
  {
   "cell_type": "markdown",
   "id": "f6b0f7f8",
   "metadata": {},
   "source": [
    "# Over and Under Sampling"
   ]
  },
  {
   "cell_type": "code",
   "execution_count": 10,
   "id": "c7a00cc3",
   "metadata": {},
   "outputs": [
    {
     "data": {
      "text/plain": [
       "(array([0, 1]), array([106, 894], dtype=int64))"
      ]
     },
     "execution_count": 10,
     "metadata": {},
     "output_type": "execute_result"
    }
   ],
   "source": [
    "from sklearn.datasets import make_classification\n",
    "\n",
    "X, y = make_classification(n_samples=1000, n_classes=2,random_state=1,weights=list([.1,.9]))\n",
    "np.unique(y, return_counts=True)"
   ]
  },
  {
   "cell_type": "code",
   "execution_count": 11,
   "id": "5c229f63",
   "metadata": {},
   "outputs": [
    {
     "name": "stdout",
     "output_type": "stream",
     "text": [
      "[0 1] [894 894]\n"
     ]
    }
   ],
   "source": [
    "from imblearn.over_sampling import RandomOverSampler\n",
    "\n",
    "sampler = RandomOverSampler(random_state=0,shrinkage=None)\n",
    "X_res, y_res = sampler.fit_resample(X, y)\n",
    "unique, counts = np.unique(y_res, return_counts=True)\n",
    "print(unique, counts)"
   ]
  },
  {
   "cell_type": "code",
   "execution_count": 12,
   "id": "69eca0a7",
   "metadata": {},
   "outputs": [
    {
     "name": "stdout",
     "output_type": "stream",
     "text": [
      "[0 1] [106 106]\n"
     ]
    }
   ],
   "source": [
    "undersample = NearMiss(version=1, n_neighbors=2)\n",
    "X_undersample, y_undersample = undersample.fit_resample(X, y)\n",
    "unique, counts = np.unique(y_undersample, return_counts=True)\n",
    "print(unique, counts)"
   ]
  },
  {
   "cell_type": "code",
   "execution_count": 13,
   "id": "9ed0164f",
   "metadata": {},
   "outputs": [
    {
     "name": "stdout",
     "output_type": "stream",
     "text": [
      "[0 1] [894 894]\n"
     ]
    }
   ],
   "source": [
    "oversample = SMOTE( random_state=7,k_neighbors=2)\n",
    "X_oversampled, y_oversampled = oversample.fit_resample(X,y)\n",
    "unique, counts = np.unique(y_oversampled, return_counts=True)\n",
    "print(unique, counts)"
   ]
  }
 ],
 "metadata": {
  "kernelspec": {
   "display_name": "Python 3 (ipykernel)",
   "language": "python",
   "name": "python3"
  },
  "language_info": {
   "codemirror_mode": {
    "name": "ipython",
    "version": 3
   },
   "file_extension": ".py",
   "mimetype": "text/x-python",
   "name": "python",
   "nbconvert_exporter": "python",
   "pygments_lexer": "ipython3",
   "version": "3.9.12"
  }
 },
 "nbformat": 4,
 "nbformat_minor": 5
}

{
 "cells": [
  {
   "cell_type": "code",
   "execution_count": 328,
   "metadata": {},
   "outputs": [
    {
     "name": "stdout",
     "output_type": "stream",
     "text": [
      "Collecting afinn\n",
      "  Downloading afinn-0.1.tar.gz (52 kB)\n",
      "     ---------------------------------------- 0.0/52.6 kB ? eta -:--:--\n",
      "     ---------------------------------------- 52.6/52.6 kB 2.6 MB/s eta 0:00:00\n",
      "  Preparing metadata (setup.py): started\n",
      "  Preparing metadata (setup.py): finished with status 'done'\n",
      "Building wheels for collected packages: afinn\n",
      "  Building wheel for afinn (setup.py): started\n",
      "  Building wheel for afinn (setup.py): finished with status 'done'\n",
      "  Created wheel for afinn: filename=afinn-0.1-py3-none-any.whl size=53437 sha256=c8fc2252e830b488950e07fd3b413d8309df59a03b9220e574dc911cb64e7d03\n",
      "  Stored in directory: c:\\users\\ihand\\appdata\\local\\pip\\cache\\wheels\\ee\\d3\\a0\\f9255ebac29886acb1c28b35b37523f6399677fa06be379f25\n",
      "Successfully built afinn\n",
      "Installing collected packages: afinn\n",
      "Successfully installed afinn-0.1\n"
     ]
    }
   ],
   "source": [
    "# !pip install googletrans==3.1.0a0\n",
    "# !pip install vaderSentiment\n",
    "# !pip install pandas\n",
    "# !pip install nltk\n",
    "# !pip install autocorrect\n",
    "# !pip install matplotlib\n",
    "# !pip install deep_translator\n",
    "# !pip install scikit-learn\n",
    "# !pip install numpy\n",
    "# !pip install researchpy\n",
    "# !pip install imbalanced-learn\n",
    "# !pip install seaborn\n",
    "# !pip install textblob\n",
    "# !pip uninstall scikit-learn --yes\n",
    "# !pip uninstall imblearn --yes\n",
    "# !pip install scikit-learn==1.2.2\n",
    "# !pip install imblearn\n",
    "# !pip install afinn"
   ]
  },
  {
   "cell_type": "code",
   "execution_count": 183,
   "metadata": {},
   "outputs": [
    {
     "name": "stderr",
     "output_type": "stream",
     "text": [
      "[nltk_data] Downloading package punkt to\n",
      "[nltk_data]     C:\\Users\\ihand\\AppData\\Roaming\\nltk_data...\n",
      "[nltk_data]   Package punkt is already up-to-date!\n",
      "[nltk_data] Downloading package stopwords to\n",
      "[nltk_data]     C:\\Users\\ihand\\AppData\\Roaming\\nltk_data...\n",
      "[nltk_data]   Package stopwords is already up-to-date!\n",
      "[nltk_data] Downloading package averaged_perceptron_tagger to\n",
      "[nltk_data]     C:\\Users\\ihand\\AppData\\Roaming\\nltk_data...\n",
      "[nltk_data]   Package averaged_perceptron_tagger is already up-to-\n",
      "[nltk_data]       date!\n",
      "[nltk_data] Downloading package wordnet to\n",
      "[nltk_data]     C:\\Users\\ihand\\AppData\\Roaming\\nltk_data...\n",
      "[nltk_data]   Package wordnet is already up-to-date!\n"
     ]
    }
   ],
   "source": [
    "import warnings\n",
    "warnings.filterwarnings('ignore')\n",
    "\n",
    "import os\n",
    "import pandas as pd\n",
    "import nltk\n",
    "from nltk.corpus import stopwords\n",
    "from nltk.stem.porter import PorterStemmer\n",
    "from nltk.stem import WordNetLemmatizer\n",
    "from nltk import word_tokenize\n",
    "import numpy as np\n",
    "from autocorrect import Speller\n",
    "from googletrans import Translator, constants\n",
    "from matplotlib import pyplot as plt\n",
    "import re\n",
    "from deep_translator import GoogleTranslator\n",
    "from sklearn.feature_extraction.text import CountVectorizer, TfidfVectorizer\n",
    "from sklearn.feature_selection import chi2, SelectKBest\n",
    "import seaborn as sns\n",
    "from sklearn.metrics import ConfusionMatrixDisplay, classification_report, roc_auc_score, confusion_matrix, roc_curve, auc\n",
    "from sklearn.preprocessing import OneHotEncoder\n",
    "from sklearn.model_selection import train_test_split\n",
    "from sklearn.naive_bayes import GaussianNB, BernoulliNB, MultinomialNB\n",
    "from sklearn import metrics\n",
    "from imblearn.over_sampling import SMOTE\n",
    "from imblearn.under_sampling import NearMiss\n",
    "from textblob import TextBlob\n",
    "\n",
    "# Download necessary NLTK resources, uncomment if needed\n",
    "nltk.download('punkt')\n",
    "nltk.download('stopwords')\n",
    "nltk.download('averaged_perceptron_tagger')\n",
    "nltk.download('wordnet')\n",
    "\n",
    "# Initialize objects for text processing\n",
    "lemmatizer = WordNetLemmatizer()\n",
    "spell_checker = Speller()\n",
    "translator = Translator()\n"
   ]
  },
  {
   "cell_type": "code",
   "execution_count": 184,
   "metadata": {},
   "outputs": [
    {
     "data": {
      "text/html": [
       "<div>\n",
       "<style scoped>\n",
       "    .dataframe tbody tr th:only-of-type {\n",
       "        vertical-align: middle;\n",
       "    }\n",
       "\n",
       "    .dataframe tbody tr th {\n",
       "        vertical-align: top;\n",
       "    }\n",
       "\n",
       "    .dataframe thead th {\n",
       "        text-align: right;\n",
       "    }\n",
       "</style>\n",
       "<table border=\"1\" class=\"dataframe\">\n",
       "  <thead>\n",
       "    <tr style=\"text-align: right;\">\n",
       "      <th></th>\n",
       "      <th>REVIEW ID</th>\n",
       "      <th>SOURCE</th>\n",
       "      <th>REVIEW BY</th>\n",
       "      <th>REVIEW DATE</th>\n",
       "      <th>REVIEW SUBJECT</th>\n",
       "      <th>text</th>\n",
       "      <th>REVIEW RATING</th>\n",
       "      <th>REVIEW TYPE</th>\n",
       "    </tr>\n",
       "  </thead>\n",
       "  <tbody>\n",
       "    <tr>\n",
       "      <th>0</th>\n",
       "      <td>814</td>\n",
       "      <td>Trip Advisor</td>\n",
       "      <td>maryd1928</td>\n",
       "      <td>2013-01-02</td>\n",
       "      <td>Don't miss this Bangalore Temp</td>\n",
       "      <td>Don't miss this Gaudiya Vaishnava Temple locat...</td>\n",
       "      <td>5</td>\n",
       "      <td>POSITIVE</td>\n",
       "    </tr>\n",
       "    <tr>\n",
       "      <th>1</th>\n",
       "      <td>1181</td>\n",
       "      <td>Trip Advisor</td>\n",
       "      <td>maryd1928</td>\n",
       "      <td>2013-01-02</td>\n",
       "      <td>Don't miss this Bangalore Temple</td>\n",
       "      <td>Don't miss this Gaudiya Vaishnava Temple locat...</td>\n",
       "      <td>5</td>\n",
       "      <td>POSITIVE</td>\n",
       "    </tr>\n",
       "    <tr>\n",
       "      <th>2</th>\n",
       "      <td>813</td>\n",
       "      <td>Trip Advisor</td>\n",
       "      <td>shoubhik</td>\n",
       "      <td>2013-01-05</td>\n",
       "      <td>peacefull and devotional</td>\n",
       "      <td>This was my 2nd visit to the temple.. last tim...</td>\n",
       "      <td>4</td>\n",
       "      <td>POSITIVE</td>\n",
       "    </tr>\n",
       "    <tr>\n",
       "      <th>3</th>\n",
       "      <td>1182</td>\n",
       "      <td>Trip Advisor</td>\n",
       "      <td>shoubhik</td>\n",
       "      <td>2013-01-05</td>\n",
       "      <td>peacefull and devotional</td>\n",
       "      <td>This was my 2nd visit to the temple.. last tim...</td>\n",
       "      <td>4</td>\n",
       "      <td>POSITIVE</td>\n",
       "    </tr>\n",
       "    <tr>\n",
       "      <th>4</th>\n",
       "      <td>812</td>\n",
       "      <td>Trip Advisor</td>\n",
       "      <td>onthemoveBangalore</td>\n",
       "      <td>2013-01-10</td>\n",
       "      <td>Huge and Grand</td>\n",
       "      <td>The Iskcon temple is a rather grand and imposi...</td>\n",
       "      <td>5</td>\n",
       "      <td>POSITIVE</td>\n",
       "    </tr>\n",
       "    <tr>\n",
       "      <th>...</th>\n",
       "      <td>...</td>\n",
       "      <td>...</td>\n",
       "      <td>...</td>\n",
       "      <td>...</td>\n",
       "      <td>...</td>\n",
       "      <td>...</td>\n",
       "      <td>...</td>\n",
       "      <td>...</td>\n",
       "    </tr>\n",
       "    <tr>\n",
       "      <th>5680</th>\n",
       "      <td>5685</td>\n",
       "      <td>Trip Advisor</td>\n",
       "      <td>disheet p</td>\n",
       "      <td>2017-08-11</td>\n",
       "      <td>Feeling blessed</td>\n",
       "      <td>Good</td>\n",
       "      <td>5</td>\n",
       "      <td>POSITIVE</td>\n",
       "    </tr>\n",
       "    <tr>\n",
       "      <th>5681</th>\n",
       "      <td>5682</td>\n",
       "      <td>Google + HK HILL</td>\n",
       "      <td>Gangaraju L</td>\n",
       "      <td>2017-08-11</td>\n",
       "      <td>NaN</td>\n",
       "      <td>Excellent</td>\n",
       "      <td>4</td>\n",
       "      <td>POSITIVE</td>\n",
       "    </tr>\n",
       "    <tr>\n",
       "      <th>5682</th>\n",
       "      <td>5684</td>\n",
       "      <td>Google + HK HILL</td>\n",
       "      <td>R Sivakumar</td>\n",
       "      <td>2017-08-11</td>\n",
       "      <td>NaN</td>\n",
       "      <td>Visited with friends on 12 Aug 2017. Not much ...</td>\n",
       "      <td>5</td>\n",
       "      <td>POSITIVE</td>\n",
       "    </tr>\n",
       "    <tr>\n",
       "      <th>5683</th>\n",
       "      <td>5686</td>\n",
       "      <td>Trip Advisor</td>\n",
       "      <td>Lalengmawia V</td>\n",
       "      <td>2017-08-12</td>\n",
       "      <td>Not interesting</td>\n",
       "      <td>Its a very beautiful temple . if you are a tou...</td>\n",
       "      <td>3</td>\n",
       "      <td>NEUTRAL</td>\n",
       "    </tr>\n",
       "    <tr>\n",
       "      <th>5684</th>\n",
       "      <td>5687</td>\n",
       "      <td>Trip Advisor</td>\n",
       "      <td>Dr_sumitarya</td>\n",
       "      <td>2017-08-13</td>\n",
       "      <td>Beautiful temple</td>\n",
       "      <td>NaN</td>\n",
       "      <td>5</td>\n",
       "      <td>POSITIVE</td>\n",
       "    </tr>\n",
       "  </tbody>\n",
       "</table>\n",
       "<p>5685 rows × 8 columns</p>\n",
       "</div>"
      ],
      "text/plain": [
       "      REVIEW ID            SOURCE           REVIEW BY REVIEW DATE  \\\n",
       "0           814      Trip Advisor           maryd1928  2013-01-02   \n",
       "1          1181      Trip Advisor           maryd1928  2013-01-02   \n",
       "2           813      Trip Advisor            shoubhik  2013-01-05   \n",
       "3          1182      Trip Advisor            shoubhik  2013-01-05   \n",
       "4           812      Trip Advisor  onthemoveBangalore  2013-01-10   \n",
       "...         ...               ...                 ...         ...   \n",
       "5680       5685      Trip Advisor           disheet p  2017-08-11   \n",
       "5681       5682  Google + HK HILL         Gangaraju L  2017-08-11   \n",
       "5682       5684  Google + HK HILL         R Sivakumar  2017-08-11   \n",
       "5683       5686      Trip Advisor       Lalengmawia V  2017-08-12   \n",
       "5684       5687      Trip Advisor        Dr_sumitarya  2017-08-13   \n",
       "\n",
       "                        REVIEW SUBJECT  \\\n",
       "0       Don't miss this Bangalore Temp   \n",
       "1     Don't miss this Bangalore Temple   \n",
       "2             peacefull and devotional   \n",
       "3             peacefull and devotional   \n",
       "4                       Huge and Grand   \n",
       "...                                ...   \n",
       "5680                   Feeling blessed   \n",
       "5681                               NaN   \n",
       "5682                               NaN   \n",
       "5683                   Not interesting   \n",
       "5684                  Beautiful temple   \n",
       "\n",
       "                                                   text  REVIEW RATING  \\\n",
       "0     Don't miss this Gaudiya Vaishnava Temple locat...              5   \n",
       "1     Don't miss this Gaudiya Vaishnava Temple locat...              5   \n",
       "2     This was my 2nd visit to the temple.. last tim...              4   \n",
       "3     This was my 2nd visit to the temple.. last tim...              4   \n",
       "4     The Iskcon temple is a rather grand and imposi...              5   \n",
       "...                                                 ...            ...   \n",
       "5680                                               Good              5   \n",
       "5681                                          Excellent              4   \n",
       "5682  Visited with friends on 12 Aug 2017. Not much ...              5   \n",
       "5683  Its a very beautiful temple . if you are a tou...              3   \n",
       "5684                                                NaN              5   \n",
       "\n",
       "     REVIEW TYPE  \n",
       "0       POSITIVE  \n",
       "1       POSITIVE  \n",
       "2       POSITIVE  \n",
       "3       POSITIVE  \n",
       "4       POSITIVE  \n",
       "...          ...  \n",
       "5680    POSITIVE  \n",
       "5681    POSITIVE  \n",
       "5682    POSITIVE  \n",
       "5683     NEUTRAL  \n",
       "5684    POSITIVE  \n",
       "\n",
       "[5685 rows x 8 columns]"
      ]
     },
     "execution_count": 184,
     "metadata": {},
     "output_type": "execute_result"
    }
   ],
   "source": [
    "df = pd.read_excel('IMB767(Enhancing Visitor Experience at ISKON,spreadsheet).xlsx', sheet_name = 'data')\n",
    "df"
   ]
  },
  {
   "cell_type": "markdown",
   "metadata": {},
   "source": [
    "# Question 1"
   ]
  },
  {
   "cell_type": "markdown",
   "metadata": {},
   "source": [
    "Identify the Duplicate Reviews by the Same Person (identified by REVIEW BY) on the Same Day."
   ]
  },
  {
   "cell_type": "code",
   "execution_count": 185,
   "metadata": {},
   "outputs": [
    {
     "data": {
      "text/html": [
       "<div>\n",
       "<style scoped>\n",
       "    .dataframe tbody tr th:only-of-type {\n",
       "        vertical-align: middle;\n",
       "    }\n",
       "\n",
       "    .dataframe tbody tr th {\n",
       "        vertical-align: top;\n",
       "    }\n",
       "\n",
       "    .dataframe thead th {\n",
       "        text-align: right;\n",
       "    }\n",
       "</style>\n",
       "<table border=\"1\" class=\"dataframe\">\n",
       "  <thead>\n",
       "    <tr style=\"text-align: right;\">\n",
       "      <th></th>\n",
       "      <th>REVIEW ID</th>\n",
       "      <th>SOURCE</th>\n",
       "      <th>REVIEW BY</th>\n",
       "      <th>REVIEW DATE</th>\n",
       "      <th>REVIEW SUBJECT</th>\n",
       "      <th>text</th>\n",
       "      <th>REVIEW RATING</th>\n",
       "      <th>REVIEW TYPE</th>\n",
       "    </tr>\n",
       "  </thead>\n",
       "  <tbody>\n",
       "    <tr>\n",
       "      <th>1</th>\n",
       "      <td>1181</td>\n",
       "      <td>Trip Advisor</td>\n",
       "      <td>maryd1928</td>\n",
       "      <td>2013-01-02</td>\n",
       "      <td>Don't miss this Bangalore Temple</td>\n",
       "      <td>Don't miss this Gaudiya Vaishnava Temple locat...</td>\n",
       "      <td>5</td>\n",
       "      <td>POSITIVE</td>\n",
       "    </tr>\n",
       "    <tr>\n",
       "      <th>3</th>\n",
       "      <td>1182</td>\n",
       "      <td>Trip Advisor</td>\n",
       "      <td>shoubhik</td>\n",
       "      <td>2013-01-05</td>\n",
       "      <td>peacefull and devotional</td>\n",
       "      <td>This was my 2nd visit to the temple.. last tim...</td>\n",
       "      <td>4</td>\n",
       "      <td>POSITIVE</td>\n",
       "    </tr>\n",
       "    <tr>\n",
       "      <th>5</th>\n",
       "      <td>1183</td>\n",
       "      <td>Trip Advisor</td>\n",
       "      <td>onthemoveBangalore</td>\n",
       "      <td>2013-01-10</td>\n",
       "      <td>Huge and Grand</td>\n",
       "      <td>The Iskcon temple is a rather grand and imposi...</td>\n",
       "      <td>5</td>\n",
       "      <td>POSITIVE</td>\n",
       "    </tr>\n",
       "    <tr>\n",
       "      <th>7</th>\n",
       "      <td>1184</td>\n",
       "      <td>Trip Advisor</td>\n",
       "      <td>RobertBorchers</td>\n",
       "      <td>2013-01-12</td>\n",
       "      <td>Interesting temple for foreigners</td>\n",
       "      <td>Interesting temple with lots of shop. Very dif...</td>\n",
       "      <td>4</td>\n",
       "      <td>POSITIVE</td>\n",
       "    </tr>\n",
       "    <tr>\n",
       "      <th>9</th>\n",
       "      <td>1185</td>\n",
       "      <td>Trip Advisor</td>\n",
       "      <td>shariffmim</td>\n",
       "      <td>2013-01-14</td>\n",
       "      <td>peace..</td>\n",
       "      <td>had been to dis place with my frnds and got to...</td>\n",
       "      <td>5</td>\n",
       "      <td>POSITIVE</td>\n",
       "    </tr>\n",
       "    <tr>\n",
       "      <th>...</th>\n",
       "      <td>...</td>\n",
       "      <td>...</td>\n",
       "      <td>...</td>\n",
       "      <td>...</td>\n",
       "      <td>...</td>\n",
       "      <td>...</td>\n",
       "      <td>...</td>\n",
       "      <td>...</td>\n",
       "    </tr>\n",
       "    <tr>\n",
       "      <th>5111</th>\n",
       "      <td>5109</td>\n",
       "      <td>Google + HK HILL</td>\n",
       "      <td>udit peshkar</td>\n",
       "      <td>2017-06-10</td>\n",
       "      <td>NaN</td>\n",
       "      <td>Nice place for all devotional people</td>\n",
       "      <td>5</td>\n",
       "      <td>POSITIVE</td>\n",
       "    </tr>\n",
       "    <tr>\n",
       "      <th>5112</th>\n",
       "      <td>5110</td>\n",
       "      <td>Google + HK HILL</td>\n",
       "      <td>udit peshkar</td>\n",
       "      <td>2017-06-10</td>\n",
       "      <td>NaN</td>\n",
       "      <td>This is a very calm and quiet place. The campu...</td>\n",
       "      <td>5</td>\n",
       "      <td>POSITIVE</td>\n",
       "    </tr>\n",
       "    <tr>\n",
       "      <th>5417</th>\n",
       "      <td>5448</td>\n",
       "      <td>Trip Advisor</td>\n",
       "      <td>arunmanir</td>\n",
       "      <td>2017-07-10</td>\n",
       "      <td>Wow temple to visit in bangalore</td>\n",
       "      <td>This is a beautiful temple located on a small ...</td>\n",
       "      <td>5</td>\n",
       "      <td>POSITIVE</td>\n",
       "    </tr>\n",
       "    <tr>\n",
       "      <th>5460</th>\n",
       "      <td>5483</td>\n",
       "      <td>Google + HK HILL</td>\n",
       "      <td>manoj rajanna</td>\n",
       "      <td>2017-07-12</td>\n",
       "      <td>NaN</td>\n",
       "      <td>It's offers you the peace and quiet you'd want...</td>\n",
       "      <td>4</td>\n",
       "      <td>POSITIVE</td>\n",
       "    </tr>\n",
       "    <tr>\n",
       "      <th>5658</th>\n",
       "      <td>5674</td>\n",
       "      <td>Google + HK HILL</td>\n",
       "      <td>Anand KS</td>\n",
       "      <td>2017-08-09</td>\n",
       "      <td>NaN</td>\n",
       "      <td>Far different from the temples and temple comp...</td>\n",
       "      <td>5</td>\n",
       "      <td>POSITIVE</td>\n",
       "    </tr>\n",
       "  </tbody>\n",
       "</table>\n",
       "<p>1040 rows × 8 columns</p>\n",
       "</div>"
      ],
      "text/plain": [
       "      REVIEW ID            SOURCE           REVIEW BY REVIEW DATE  \\\n",
       "1          1181      Trip Advisor           maryd1928  2013-01-02   \n",
       "3          1182      Trip Advisor            shoubhik  2013-01-05   \n",
       "5          1183      Trip Advisor  onthemoveBangalore  2013-01-10   \n",
       "7          1184      Trip Advisor      RobertBorchers  2013-01-12   \n",
       "9          1185      Trip Advisor          shariffmim  2013-01-14   \n",
       "...         ...               ...                 ...         ...   \n",
       "5111       5109  Google + HK HILL        udit peshkar  2017-06-10   \n",
       "5112       5110  Google + HK HILL        udit peshkar  2017-06-10   \n",
       "5417       5448      Trip Advisor           arunmanir  2017-07-10   \n",
       "5460       5483  Google + HK HILL       manoj rajanna  2017-07-12   \n",
       "5658       5674  Google + HK HILL            Anand KS  2017-08-09   \n",
       "\n",
       "                         REVIEW SUBJECT  \\\n",
       "1      Don't miss this Bangalore Temple   \n",
       "3              peacefull and devotional   \n",
       "5                        Huge and Grand   \n",
       "7     Interesting temple for foreigners   \n",
       "9                               peace..   \n",
       "...                                 ...   \n",
       "5111                                NaN   \n",
       "5112                                NaN   \n",
       "5417   Wow temple to visit in bangalore   \n",
       "5460                                NaN   \n",
       "5658                                NaN   \n",
       "\n",
       "                                                   text  REVIEW RATING  \\\n",
       "1     Don't miss this Gaudiya Vaishnava Temple locat...              5   \n",
       "3     This was my 2nd visit to the temple.. last tim...              4   \n",
       "5     The Iskcon temple is a rather grand and imposi...              5   \n",
       "7     Interesting temple with lots of shop. Very dif...              4   \n",
       "9     had been to dis place with my frnds and got to...              5   \n",
       "...                                                 ...            ...   \n",
       "5111               Nice place for all devotional people              5   \n",
       "5112  This is a very calm and quiet place. The campu...              5   \n",
       "5417  This is a beautiful temple located on a small ...              5   \n",
       "5460  It's offers you the peace and quiet you'd want...              4   \n",
       "5658  Far different from the temples and temple comp...              5   \n",
       "\n",
       "     REVIEW TYPE  \n",
       "1       POSITIVE  \n",
       "3       POSITIVE  \n",
       "5       POSITIVE  \n",
       "7       POSITIVE  \n",
       "9       POSITIVE  \n",
       "...          ...  \n",
       "5111    POSITIVE  \n",
       "5112    POSITIVE  \n",
       "5417    POSITIVE  \n",
       "5460    POSITIVE  \n",
       "5658    POSITIVE  \n",
       "\n",
       "[1040 rows x 8 columns]"
      ]
     },
     "execution_count": 185,
     "metadata": {},
     "output_type": "execute_result"
    }
   ],
   "source": [
    "duplicates = df.duplicated(subset=['REVIEW BY', 'REVIEW DATE'], keep='first')\n",
    "df[duplicates]"
   ]
  },
  {
   "cell_type": "markdown",
   "metadata": {},
   "source": [
    "Keep the First Occurrence of Duplicate Reviews by the Same Person (identified by REVIEW BY) on the Same Day."
   ]
  },
  {
   "cell_type": "code",
   "execution_count": 186,
   "metadata": {},
   "outputs": [
    {
     "data": {
      "text/html": [
       "<div>\n",
       "<style scoped>\n",
       "    .dataframe tbody tr th:only-of-type {\n",
       "        vertical-align: middle;\n",
       "    }\n",
       "\n",
       "    .dataframe tbody tr th {\n",
       "        vertical-align: top;\n",
       "    }\n",
       "\n",
       "    .dataframe thead th {\n",
       "        text-align: right;\n",
       "    }\n",
       "</style>\n",
       "<table border=\"1\" class=\"dataframe\">\n",
       "  <thead>\n",
       "    <tr style=\"text-align: right;\">\n",
       "      <th></th>\n",
       "      <th>REVIEW ID</th>\n",
       "      <th>SOURCE</th>\n",
       "      <th>REVIEW BY</th>\n",
       "      <th>REVIEW DATE</th>\n",
       "      <th>REVIEW SUBJECT</th>\n",
       "      <th>text</th>\n",
       "      <th>REVIEW RATING</th>\n",
       "      <th>REVIEW TYPE</th>\n",
       "    </tr>\n",
       "  </thead>\n",
       "  <tbody>\n",
       "    <tr>\n",
       "      <th>0</th>\n",
       "      <td>814</td>\n",
       "      <td>Trip Advisor</td>\n",
       "      <td>maryd1928</td>\n",
       "      <td>2013-01-02</td>\n",
       "      <td>Don't miss this Bangalore Temp</td>\n",
       "      <td>Don't miss this Gaudiya Vaishnava Temple locat...</td>\n",
       "      <td>5</td>\n",
       "      <td>POSITIVE</td>\n",
       "    </tr>\n",
       "    <tr>\n",
       "      <th>2</th>\n",
       "      <td>813</td>\n",
       "      <td>Trip Advisor</td>\n",
       "      <td>shoubhik</td>\n",
       "      <td>2013-01-05</td>\n",
       "      <td>peacefull and devotional</td>\n",
       "      <td>This was my 2nd visit to the temple.. last tim...</td>\n",
       "      <td>4</td>\n",
       "      <td>POSITIVE</td>\n",
       "    </tr>\n",
       "    <tr>\n",
       "      <th>4</th>\n",
       "      <td>812</td>\n",
       "      <td>Trip Advisor</td>\n",
       "      <td>onthemoveBangalore</td>\n",
       "      <td>2013-01-10</td>\n",
       "      <td>Huge and Grand</td>\n",
       "      <td>The Iskcon temple is a rather grand and imposi...</td>\n",
       "      <td>5</td>\n",
       "      <td>POSITIVE</td>\n",
       "    </tr>\n",
       "    <tr>\n",
       "      <th>6</th>\n",
       "      <td>808</td>\n",
       "      <td>Trip Advisor</td>\n",
       "      <td>RobertBorchers</td>\n",
       "      <td>2013-01-12</td>\n",
       "      <td>Interesting temple for foreign</td>\n",
       "      <td>Interesting temple with lots of shop. Very dif...</td>\n",
       "      <td>4</td>\n",
       "      <td>POSITIVE</td>\n",
       "    </tr>\n",
       "    <tr>\n",
       "      <th>8</th>\n",
       "      <td>762</td>\n",
       "      <td>Trip Advisor</td>\n",
       "      <td>shariffmim</td>\n",
       "      <td>2013-01-14</td>\n",
       "      <td>peace..</td>\n",
       "      <td>had been to dis place with my frnds and got to...</td>\n",
       "      <td>5</td>\n",
       "      <td>POSITIVE</td>\n",
       "    </tr>\n",
       "    <tr>\n",
       "      <th>...</th>\n",
       "      <td>...</td>\n",
       "      <td>...</td>\n",
       "      <td>...</td>\n",
       "      <td>...</td>\n",
       "      <td>...</td>\n",
       "      <td>...</td>\n",
       "      <td>...</td>\n",
       "      <td>...</td>\n",
       "    </tr>\n",
       "    <tr>\n",
       "      <th>5680</th>\n",
       "      <td>5685</td>\n",
       "      <td>Trip Advisor</td>\n",
       "      <td>disheet p</td>\n",
       "      <td>2017-08-11</td>\n",
       "      <td>Feeling blessed</td>\n",
       "      <td>Good</td>\n",
       "      <td>5</td>\n",
       "      <td>POSITIVE</td>\n",
       "    </tr>\n",
       "    <tr>\n",
       "      <th>5681</th>\n",
       "      <td>5682</td>\n",
       "      <td>Google + HK HILL</td>\n",
       "      <td>Gangaraju L</td>\n",
       "      <td>2017-08-11</td>\n",
       "      <td>NaN</td>\n",
       "      <td>Excellent</td>\n",
       "      <td>4</td>\n",
       "      <td>POSITIVE</td>\n",
       "    </tr>\n",
       "    <tr>\n",
       "      <th>5682</th>\n",
       "      <td>5684</td>\n",
       "      <td>Google + HK HILL</td>\n",
       "      <td>R Sivakumar</td>\n",
       "      <td>2017-08-11</td>\n",
       "      <td>NaN</td>\n",
       "      <td>Visited with friends on 12 Aug 2017. Not much ...</td>\n",
       "      <td>5</td>\n",
       "      <td>POSITIVE</td>\n",
       "    </tr>\n",
       "    <tr>\n",
       "      <th>5683</th>\n",
       "      <td>5686</td>\n",
       "      <td>Trip Advisor</td>\n",
       "      <td>Lalengmawia V</td>\n",
       "      <td>2017-08-12</td>\n",
       "      <td>Not interesting</td>\n",
       "      <td>Its a very beautiful temple . if you are a tou...</td>\n",
       "      <td>3</td>\n",
       "      <td>NEUTRAL</td>\n",
       "    </tr>\n",
       "    <tr>\n",
       "      <th>5684</th>\n",
       "      <td>5687</td>\n",
       "      <td>Trip Advisor</td>\n",
       "      <td>Dr_sumitarya</td>\n",
       "      <td>2017-08-13</td>\n",
       "      <td>Beautiful temple</td>\n",
       "      <td>NaN</td>\n",
       "      <td>5</td>\n",
       "      <td>POSITIVE</td>\n",
       "    </tr>\n",
       "  </tbody>\n",
       "</table>\n",
       "<p>4645 rows × 8 columns</p>\n",
       "</div>"
      ],
      "text/plain": [
       "      REVIEW ID            SOURCE           REVIEW BY REVIEW DATE  \\\n",
       "0           814      Trip Advisor           maryd1928  2013-01-02   \n",
       "2           813      Trip Advisor            shoubhik  2013-01-05   \n",
       "4           812      Trip Advisor  onthemoveBangalore  2013-01-10   \n",
       "6           808      Trip Advisor      RobertBorchers  2013-01-12   \n",
       "8           762      Trip Advisor          shariffmim  2013-01-14   \n",
       "...         ...               ...                 ...         ...   \n",
       "5680       5685      Trip Advisor           disheet p  2017-08-11   \n",
       "5681       5682  Google + HK HILL         Gangaraju L  2017-08-11   \n",
       "5682       5684  Google + HK HILL         R Sivakumar  2017-08-11   \n",
       "5683       5686      Trip Advisor       Lalengmawia V  2017-08-12   \n",
       "5684       5687      Trip Advisor        Dr_sumitarya  2017-08-13   \n",
       "\n",
       "                      REVIEW SUBJECT  \\\n",
       "0     Don't miss this Bangalore Temp   \n",
       "2           peacefull and devotional   \n",
       "4                     Huge and Grand   \n",
       "6     Interesting temple for foreign   \n",
       "8                            peace..   \n",
       "...                              ...   \n",
       "5680                 Feeling blessed   \n",
       "5681                             NaN   \n",
       "5682                             NaN   \n",
       "5683                 Not interesting   \n",
       "5684                Beautiful temple   \n",
       "\n",
       "                                                   text  REVIEW RATING  \\\n",
       "0     Don't miss this Gaudiya Vaishnava Temple locat...              5   \n",
       "2     This was my 2nd visit to the temple.. last tim...              4   \n",
       "4     The Iskcon temple is a rather grand and imposi...              5   \n",
       "6     Interesting temple with lots of shop. Very dif...              4   \n",
       "8     had been to dis place with my frnds and got to...              5   \n",
       "...                                                 ...            ...   \n",
       "5680                                               Good              5   \n",
       "5681                                          Excellent              4   \n",
       "5682  Visited with friends on 12 Aug 2017. Not much ...              5   \n",
       "5683  Its a very beautiful temple . if you are a tou...              3   \n",
       "5684                                                NaN              5   \n",
       "\n",
       "     REVIEW TYPE  \n",
       "0       POSITIVE  \n",
       "2       POSITIVE  \n",
       "4       POSITIVE  \n",
       "6       POSITIVE  \n",
       "8       POSITIVE  \n",
       "...          ...  \n",
       "5680    POSITIVE  \n",
       "5681    POSITIVE  \n",
       "5682    POSITIVE  \n",
       "5683     NEUTRAL  \n",
       "5684    POSITIVE  \n",
       "\n",
       "[4645 rows x 8 columns]"
      ]
     },
     "execution_count": 186,
     "metadata": {},
     "output_type": "execute_result"
    }
   ],
   "source": [
    "df1 = df.drop_duplicates(subset=['REVIEW BY', 'REVIEW DATE'], keep='first')\n",
    "df1"
   ]
  },
  {
   "cell_type": "markdown",
   "metadata": {},
   "source": [
    "# Question 2"
   ]
  },
  {
   "cell_type": "markdown",
   "metadata": {},
   "source": [
    "Identify and Keep the First Occurrence of Reviews by the Same Person (identified by REVIEW BY) Within a 7-day Interval."
   ]
  },
  {
   "cell_type": "code",
   "execution_count": 187,
   "metadata": {},
   "outputs": [
    {
     "data": {
      "text/html": [
       "<div>\n",
       "<style scoped>\n",
       "    .dataframe tbody tr th:only-of-type {\n",
       "        vertical-align: middle;\n",
       "    }\n",
       "\n",
       "    .dataframe tbody tr th {\n",
       "        vertical-align: top;\n",
       "    }\n",
       "\n",
       "    .dataframe thead th {\n",
       "        text-align: right;\n",
       "    }\n",
       "</style>\n",
       "<table border=\"1\" class=\"dataframe\">\n",
       "  <thead>\n",
       "    <tr style=\"text-align: right;\">\n",
       "      <th></th>\n",
       "      <th>REVIEW ID</th>\n",
       "      <th>SOURCE</th>\n",
       "      <th>REVIEW BY</th>\n",
       "      <th>REVIEW DATE</th>\n",
       "      <th>REVIEW SUBJECT</th>\n",
       "      <th>text</th>\n",
       "      <th>REVIEW RATING</th>\n",
       "      <th>REVIEW TYPE</th>\n",
       "    </tr>\n",
       "  </thead>\n",
       "  <tbody>\n",
       "    <tr>\n",
       "      <th>0</th>\n",
       "      <td>656</td>\n",
       "      <td>Trip Advisor</td>\n",
       "      <td>3612</td>\n",
       "      <td>2014-04-30</td>\n",
       "      <td>To commercial</td>\n",
       "      <td>This reativly new temple was a big hindu versi...</td>\n",
       "      <td>2</td>\n",
       "      <td>NEGATIVE</td>\n",
       "    </tr>\n",
       "    <tr>\n",
       "      <th>1</th>\n",
       "      <td>2208</td>\n",
       "      <td>Trip Advisor</td>\n",
       "      <td>9573519851</td>\n",
       "      <td>2015-07-24</td>\n",
       "      <td>?Amazing temple in Bangalore?</td>\n",
       "      <td>Superr</td>\n",
       "      <td>5</td>\n",
       "      <td>POSITIVE</td>\n",
       "    </tr>\n",
       "    <tr>\n",
       "      <th>2</th>\n",
       "      <td>3989</td>\n",
       "      <td>Trip Advisor</td>\n",
       "      <td>0iamsid0</td>\n",
       "      <td>2017-01-03</td>\n",
       "      <td>Fully commercialized place</td>\n",
       "      <td>Giving 3 stars because I felt its more of a sh...</td>\n",
       "      <td>4</td>\n",
       "      <td>NEGATIVE</td>\n",
       "    </tr>\n",
       "    <tr>\n",
       "      <th>3</th>\n",
       "      <td>4561</td>\n",
       "      <td>Trip Advisor</td>\n",
       "      <td>1 All over</td>\n",
       "      <td>2017-04-02</td>\n",
       "      <td>Off the beaten path</td>\n",
       "      <td>A best peaceful place with great infrastructur...</td>\n",
       "      <td>5</td>\n",
       "      <td>POSITIVE</td>\n",
       "    </tr>\n",
       "    <tr>\n",
       "      <th>4</th>\n",
       "      <td>3334</td>\n",
       "      <td>Trip Advisor</td>\n",
       "      <td>10vee</td>\n",
       "      <td>2016-08-29</td>\n",
       "      <td>Peaceful and Serene place</td>\n",
       "      <td>Tranquility in the midst of the busiest place....</td>\n",
       "      <td>5</td>\n",
       "      <td>POSITIVE</td>\n",
       "    </tr>\n",
       "    <tr>\n",
       "      <th>...</th>\n",
       "      <td>...</td>\n",
       "      <td>...</td>\n",
       "      <td>...</td>\n",
       "      <td>...</td>\n",
       "      <td>...</td>\n",
       "      <td>...</td>\n",
       "      <td>...</td>\n",
       "      <td>...</td>\n",
       "    </tr>\n",
       "    <tr>\n",
       "      <th>4627</th>\n",
       "      <td>2231</td>\n",
       "      <td>Trip Advisor</td>\n",
       "      <td>yuvaramraja</td>\n",
       "      <td>2015-08-17</td>\n",
       "      <td>?Peaceful place!!!!!!!!!!!?</td>\n",
       "      <td>Waiting for my lords birthday.. Preparation is...</td>\n",
       "      <td>5</td>\n",
       "      <td>POSITIVE</td>\n",
       "    </tr>\n",
       "    <tr>\n",
       "      <th>4628</th>\n",
       "      <td>389</td>\n",
       "      <td>Trip Advisor</td>\n",
       "      <td>yv_Shastry</td>\n",
       "      <td>2014-12-10</td>\n",
       "      <td>Clean but commercial</td>\n",
       "      <td>The temple is clean and the altitude of the Ha...</td>\n",
       "      <td>4</td>\n",
       "      <td>MIXED</td>\n",
       "    </tr>\n",
       "    <tr>\n",
       "      <th>4629</th>\n",
       "      <td>3790</td>\n",
       "      <td>Trip Advisor</td>\n",
       "      <td>yyyasssh</td>\n",
       "      <td>2016-12-03</td>\n",
       "      <td>Worship</td>\n",
       "      <td>Iskcon temples are available in almost all the...</td>\n",
       "      <td>5</td>\n",
       "      <td>POSITIVE</td>\n",
       "    </tr>\n",
       "    <tr>\n",
       "      <th>4630</th>\n",
       "      <td>4160</td>\n",
       "      <td>Trip Advisor</td>\n",
       "      <td>zach411</td>\n",
       "      <td>2017-02-01</td>\n",
       "      <td>Cool place to see</td>\n",
       "      <td>Well maintained as you expect from Iskcon admi...</td>\n",
       "      <td>5</td>\n",
       "      <td>POSITIVE</td>\n",
       "    </tr>\n",
       "    <tr>\n",
       "      <th>4631</th>\n",
       "      <td>2879</td>\n",
       "      <td>Facebook</td>\n",
       "      <td>Ámît Çhãúdhåry</td>\n",
       "      <td>2015-11-11</td>\n",
       "      <td>NaN</td>\n",
       "      <td>A worthwhile place to visit with family. The t...</td>\n",
       "      <td>5</td>\n",
       "      <td>POSITIVE</td>\n",
       "    </tr>\n",
       "  </tbody>\n",
       "</table>\n",
       "<p>4632 rows × 8 columns</p>\n",
       "</div>"
      ],
      "text/plain": [
       "     REVIEW ID        SOURCE       REVIEW BY REVIEW DATE  \\\n",
       "0          656  Trip Advisor            3612  2014-04-30   \n",
       "1         2208  Trip Advisor      9573519851  2015-07-24   \n",
       "2         3989  Trip Advisor        0iamsid0  2017-01-03   \n",
       "3         4561  Trip Advisor      1 All over  2017-04-02   \n",
       "4         3334  Trip Advisor           10vee  2016-08-29   \n",
       "...        ...           ...             ...         ...   \n",
       "4627      2231  Trip Advisor     yuvaramraja  2015-08-17   \n",
       "4628       389  Trip Advisor      yv_Shastry  2014-12-10   \n",
       "4629      3790  Trip Advisor        yyyasssh  2016-12-03   \n",
       "4630      4160  Trip Advisor         zach411  2017-02-01   \n",
       "4631      2879      Facebook  Ámît Çhãúdhåry  2015-11-11   \n",
       "\n",
       "                     REVIEW SUBJECT  \\\n",
       "0                     To commercial   \n",
       "1     ?Amazing temple in Bangalore?   \n",
       "2        Fully commercialized place   \n",
       "3               Off the beaten path   \n",
       "4         Peaceful and Serene place   \n",
       "...                             ...   \n",
       "4627    ?Peaceful place!!!!!!!!!!!?   \n",
       "4628           Clean but commercial   \n",
       "4629                        Worship   \n",
       "4630              Cool place to see   \n",
       "4631                            NaN   \n",
       "\n",
       "                                                   text REVIEW RATING  \\\n",
       "0     This reativly new temple was a big hindu versi...             2   \n",
       "1                                                Superr             5   \n",
       "2     Giving 3 stars because I felt its more of a sh...             4   \n",
       "3     A best peaceful place with great infrastructur...             5   \n",
       "4     Tranquility in the midst of the busiest place....             5   \n",
       "...                                                 ...           ...   \n",
       "4627  Waiting for my lords birthday.. Preparation is...             5   \n",
       "4628  The temple is clean and the altitude of the Ha...             4   \n",
       "4629  Iskcon temples are available in almost all the...             5   \n",
       "4630  Well maintained as you expect from Iskcon admi...             5   \n",
       "4631  A worthwhile place to visit with family. The t...             5   \n",
       "\n",
       "     REVIEW TYPE  \n",
       "0       NEGATIVE  \n",
       "1       POSITIVE  \n",
       "2       NEGATIVE  \n",
       "3       POSITIVE  \n",
       "4       POSITIVE  \n",
       "...          ...  \n",
       "4627    POSITIVE  \n",
       "4628       MIXED  \n",
       "4629    POSITIVE  \n",
       "4630    POSITIVE  \n",
       "4631    POSITIVE  \n",
       "\n",
       "[4632 rows x 8 columns]"
      ]
     },
     "execution_count": 187,
     "metadata": {},
     "output_type": "execute_result"
    }
   ],
   "source": [
    "df1['REVIEW DATE'] = pd.to_datetime(df1['REVIEW DATE'])\n",
    "\n",
    "# Create an empty DataFrame to store the first occurrences of reviews\n",
    "df2 = pd.DataFrame(columns=df1.columns)\n",
    "\n",
    "# Iterate over each unique reviewer\n",
    "for reviewer, group in df1.groupby('REVIEW BY'):\n",
    "    # Sort the group by date\n",
    "    group = group.sort_values('REVIEW DATE')\n",
    "\n",
    "    # Take the first review\n",
    "    last_review_date = group.iloc[0]['REVIEW DATE']\n",
    "    df2 = df2.append(group.iloc[0])\n",
    "\n",
    "    # Iterate over the rest of the reviews\n",
    "    for _, row in group.iterrows():\n",
    "        # If the current review is more than 7 days after the last review date, take it as the first occurrence\n",
    "        if (row['REVIEW DATE'] - last_review_date).days > 7:\n",
    "            df2 = df2.append(row)\n",
    "            # Update the last review date\n",
    "            last_review_date = row['REVIEW DATE']\n",
    "\n",
    "# Reset index of the resulting DataFrame\n",
    "df2.reset_index(drop=True, inplace=True)\n",
    "df2"
   ]
  },
  {
   "cell_type": "markdown",
   "metadata": {},
   "source": [
    "# Question 3"
   ]
  },
  {
   "cell_type": "markdown",
   "metadata": {},
   "source": [
    "Implement Standard Text Pre-processing Techniques: Contraction Replacement, Stop Words Removal, Number and Symbols Removal, Lowercasing, Slang Correction, Spell Correction, Translation to English, Stemming and Lemmatization."
   ]
  },
  {
   "cell_type": "code",
   "execution_count": 188,
   "metadata": {},
   "outputs": [],
   "source": [
    "#dictionary consisting of the contraction and the actual value\n",
    "Apos_dict={\"'s\":\" is\",\"n't\":\" not\",\"'m\":\" am\",\"'ll\":\" will\",\"'d\":\" would\",\"'ve\":\" have\",\"'re\":\" are\"}"
   ]
  },
  {
   "cell_type": "code",
   "execution_count": 189,
   "metadata": {},
   "outputs": [],
   "source": [
    "def contraction_replacement(text, Apos_dict = Apos_dict):\n",
    "    for key,value in Apos_dict.items():\n",
    "        if key in text:\n",
    "            text=text.replace(key,value)\n",
    "    return text"
   ]
  },
  {
   "cell_type": "code",
   "execution_count": 190,
   "metadata": {},
   "outputs": [],
   "source": [
    "def stop_word(text):\n",
    "    # Remove stop words and join the result into a single string\n",
    "    text = ' '.join([word for word in word_tokenize(text) if word not in stopwords.words('english')])\n",
    "    return text"
   ]
  },
  {
   "cell_type": "code",
   "execution_count": 191,
   "metadata": {},
   "outputs": [],
   "source": [
    "def remove_everything_than_word(text):\n",
    "    text = re.sub('[^A-Za-z]+', ' ', text)\n",
    "    return text"
   ]
  },
  {
   "cell_type": "code",
   "execution_count": 192,
   "metadata": {},
   "outputs": [],
   "source": [
    "def lowercasing(text):\n",
    "    text = text.lower()\n",
    "    return text"
   ]
  },
  {
   "cell_type": "code",
   "execution_count": 193,
   "metadata": {},
   "outputs": [],
   "source": [
    "#open the file slang.txt\n",
    "file=open(\"slang.txt\",\"r\")\n",
    "slang=file.read()\n",
    "\n",
    "#seperating each line present in the file\n",
    "slang=slang.split('\\n')\n",
    "\n",
    "# creating dictionary from slang.txt\n",
    "Slang_dict=dict()\n",
    "for line in slang:\n",
    "    temp=line.split(\"=\")\n",
    "    Slang_dict[temp[0]] = temp[-1]"
   ]
  },
  {
   "cell_type": "code",
   "execution_count": 194,
   "metadata": {},
   "outputs": [],
   "source": [
    "def slang_correction(text, Slang_dict = Slang_dict):\n",
    "    for word in word_tokenize(text):\n",
    "        if word in Slang_dict.keys():\n",
    "            text=text.replace(word,Slang_dict[word])\n",
    "        else:\n",
    "            text=text\n",
    "    return text"
   ]
  },
  {
   "cell_type": "code",
   "execution_count": 195,
   "metadata": {},
   "outputs": [],
   "source": [
    "def spell_correction(text):\n",
    "    text = TextBlob(text).correct()\n",
    "    return str(text)"
   ]
  },
  {
   "cell_type": "code",
   "execution_count": 196,
   "metadata": {},
   "outputs": [],
   "source": [
    "def translation_to_english(text):\n",
    "    text = GoogleTranslator(source='hi', target='en').translate(text)\n",
    "    return text"
   ]
  },
  {
   "cell_type": "code",
   "execution_count": 197,
   "metadata": {},
   "outputs": [],
   "source": [
    "def stemming(text):\n",
    "    # Initialize Porter Stemmer\n",
    "    stemmer = PorterStemmer()\n",
    "    # Apply stemming to each word\n",
    "    text = ' '.join([stemmer.stem(word) for word in word_tokenize(text)])\n",
    "    return text"
   ]
  },
  {
   "cell_type": "code",
   "execution_count": 198,
   "metadata": {},
   "outputs": [],
   "source": [
    "def lemmatization(text):\n",
    "    # Initialize lemmatizer\n",
    "    lemmatizer = WordNetLemmatizer()\n",
    "    # apply lemmatizer to each word\n",
    "    text = ' '.join([lemmatizer.lemmatize(word) for word in word_tokenize(text)])\n",
    "    return text"
   ]
  },
  {
   "cell_type": "code",
   "execution_count": 199,
   "metadata": {},
   "outputs": [],
   "source": [
    "df2['text'] = df2['text'].fillna('')  # Replace NaN values with empty strings\n",
    "df2['text'] = df2['text'].astype(str)  # Convert all data to strings"
   ]
  },
  {
   "cell_type": "code",
   "execution_count": 200,
   "metadata": {},
   "outputs": [],
   "source": [
    "df2['text'] = df2['text'].apply(contraction_replacement)"
   ]
  },
  {
   "cell_type": "code",
   "execution_count": 201,
   "metadata": {},
   "outputs": [],
   "source": [
    "df2['text'] = df2['text'].apply(lowercasing)"
   ]
  },
  {
   "cell_type": "code",
   "execution_count": 202,
   "metadata": {},
   "outputs": [],
   "source": [
    "df2['text'] = df2['text'].apply(remove_everything_than_word)"
   ]
  },
  {
   "cell_type": "code",
   "execution_count": 203,
   "metadata": {},
   "outputs": [],
   "source": [
    "df2['text'] = df2['text'].apply(slang_correction)"
   ]
  },
  {
   "cell_type": "code",
   "execution_count": 204,
   "metadata": {},
   "outputs": [],
   "source": [
    "df2['text'] = df2['text'].apply(translation_to_english)"
   ]
  },
  {
   "cell_type": "code",
   "execution_count": 205,
   "metadata": {},
   "outputs": [],
   "source": [
    "df2['text'] = df2['text'].apply(stemming)"
   ]
  },
  {
   "cell_type": "code",
   "execution_count": 206,
   "metadata": {},
   "outputs": [],
   "source": [
    "df2['text'] = df2['text'].apply(lemmatization)"
   ]
  },
  {
   "cell_type": "code",
   "execution_count": 207,
   "metadata": {},
   "outputs": [],
   "source": [
    "df2['text'] = df2['text'].apply(spell_correction)"
   ]
  },
  {
   "cell_type": "code",
   "execution_count": 208,
   "metadata": {},
   "outputs": [],
   "source": [
    "df2['text'] = df2['text'].apply(stop_word)"
   ]
  },
  {
   "cell_type": "markdown",
   "metadata": {},
   "source": [
    "Since REVIEW TYPE of SUGGESTION and QUERY only has one row each, I removed them out from the data frame."
   ]
  },
  {
   "cell_type": "code",
   "execution_count": 248,
   "metadata": {},
   "outputs": [
    {
     "data": {
      "text/html": [
       "<div>\n",
       "<style scoped>\n",
       "    .dataframe tbody tr th:only-of-type {\n",
       "        vertical-align: middle;\n",
       "    }\n",
       "\n",
       "    .dataframe tbody tr th {\n",
       "        vertical-align: top;\n",
       "    }\n",
       "\n",
       "    .dataframe thead th {\n",
       "        text-align: right;\n",
       "    }\n",
       "</style>\n",
       "<table border=\"1\" class=\"dataframe\">\n",
       "  <thead>\n",
       "    <tr style=\"text-align: right;\">\n",
       "      <th></th>\n",
       "      <th>REVIEW ID</th>\n",
       "      <th>SOURCE</th>\n",
       "      <th>REVIEW BY</th>\n",
       "      <th>REVIEW DATE</th>\n",
       "      <th>REVIEW SUBJECT</th>\n",
       "      <th>text</th>\n",
       "      <th>REVIEW RATING</th>\n",
       "      <th>REVIEW TYPE</th>\n",
       "      <th>YEAR</th>\n",
       "    </tr>\n",
       "  </thead>\n",
       "  <tbody>\n",
       "    <tr>\n",
       "      <th>0</th>\n",
       "      <td>656</td>\n",
       "      <td>Trip Advisor</td>\n",
       "      <td>3612</td>\n",
       "      <td>2014-04-30</td>\n",
       "      <td>To commercial</td>\n",
       "      <td>reativli new temple wa big hindu version dinne...</td>\n",
       "      <td>2</td>\n",
       "      <td>NEGATIVE</td>\n",
       "      <td>2014</td>\n",
       "    </tr>\n",
       "    <tr>\n",
       "      <th>1</th>\n",
       "      <td>2208</td>\n",
       "      <td>Trip Advisor</td>\n",
       "      <td>9573519851</td>\n",
       "      <td>2015-07-24</td>\n",
       "      <td>?Amazing temple in Bangalore?</td>\n",
       "      <td>superb</td>\n",
       "      <td>5</td>\n",
       "      <td>POSITIVE</td>\n",
       "      <td>2015</td>\n",
       "    </tr>\n",
       "    <tr>\n",
       "      <th>2</th>\n",
       "      <td>3989</td>\n",
       "      <td>Trip Advisor</td>\n",
       "      <td>0iamsid0</td>\n",
       "      <td>2017-01-03</td>\n",
       "      <td>Fully commercialized place</td>\n",
       "      <td>give star felt shop mall instead temple otherw...</td>\n",
       "      <td>4</td>\n",
       "      <td>NEGATIVE</td>\n",
       "      <td>2017</td>\n",
       "    </tr>\n",
       "    <tr>\n",
       "      <th>3</th>\n",
       "      <td>4561</td>\n",
       "      <td>Trip Advisor</td>\n",
       "      <td>1 All over</td>\n",
       "      <td>2017-04-02</td>\n",
       "      <td>Off the beaten path</td>\n",
       "      <td>best peace place great infrastructure love vis...</td>\n",
       "      <td>5</td>\n",
       "      <td>POSITIVE</td>\n",
       "      <td>2017</td>\n",
       "    </tr>\n",
       "    <tr>\n",
       "      <th>4</th>\n",
       "      <td>3334</td>\n",
       "      <td>Trip Advisor</td>\n",
       "      <td>10vee</td>\n",
       "      <td>2016-08-29</td>\n",
       "      <td>Peaceful and Serene place</td>\n",
       "      <td>tranquil midst business place place worth visi...</td>\n",
       "      <td>5</td>\n",
       "      <td>POSITIVE</td>\n",
       "      <td>2016</td>\n",
       "    </tr>\n",
       "    <tr>\n",
       "      <th>...</th>\n",
       "      <td>...</td>\n",
       "      <td>...</td>\n",
       "      <td>...</td>\n",
       "      <td>...</td>\n",
       "      <td>...</td>\n",
       "      <td>...</td>\n",
       "      <td>...</td>\n",
       "      <td>...</td>\n",
       "      <td>...</td>\n",
       "    </tr>\n",
       "    <tr>\n",
       "      <th>4627</th>\n",
       "      <td>2231</td>\n",
       "      <td>Trip Advisor</td>\n",
       "      <td>yuvaramraja</td>\n",
       "      <td>2015-08-17</td>\n",
       "      <td>?Peaceful place!!!!!!!!!!!?</td>\n",
       "      <td>wait lord birthday prepare go grandly though f...</td>\n",
       "      <td>5</td>\n",
       "      <td>POSITIVE</td>\n",
       "      <td>2015</td>\n",
       "    </tr>\n",
       "    <tr>\n",
       "      <th>4628</th>\n",
       "      <td>389</td>\n",
       "      <td>Trip Advisor</td>\n",
       "      <td>yv_Shastry</td>\n",
       "      <td>2014-12-10</td>\n",
       "      <td>Clean but commercial</td>\n",
       "      <td>temple clean attitude hare krishna hill ensue ...</td>\n",
       "      <td>4</td>\n",
       "      <td>MIXED</td>\n",
       "      <td>2014</td>\n",
       "    </tr>\n",
       "    <tr>\n",
       "      <th>4629</th>\n",
       "      <td>3790</td>\n",
       "      <td>Trip Advisor</td>\n",
       "      <td>yyyasssh</td>\n",
       "      <td>2016-12-03</td>\n",
       "      <td>Worship</td>\n",
       "      <td>icon temple avail almost major city bengaluru ...</td>\n",
       "      <td>5</td>\n",
       "      <td>POSITIVE</td>\n",
       "      <td>2016</td>\n",
       "    </tr>\n",
       "    <tr>\n",
       "      <th>4630</th>\n",
       "      <td>4160</td>\n",
       "      <td>Trip Advisor</td>\n",
       "      <td>zach411</td>\n",
       "      <td>2017-02-01</td>\n",
       "      <td>Cool place to see</td>\n",
       "      <td>well maintain expect icon administer prasadam ...</td>\n",
       "      <td>5</td>\n",
       "      <td>POSITIVE</td>\n",
       "      <td>2017</td>\n",
       "    </tr>\n",
       "    <tr>\n",
       "      <th>4631</th>\n",
       "      <td>2879</td>\n",
       "      <td>Facebook</td>\n",
       "      <td>Ámît Çhãúdhåry</td>\n",
       "      <td>2015-11-11</td>\n",
       "      <td>NaN</td>\n",
       "      <td>worthwhile place visit family temple well plan...</td>\n",
       "      <td>5</td>\n",
       "      <td>POSITIVE</td>\n",
       "      <td>2015</td>\n",
       "    </tr>\n",
       "  </tbody>\n",
       "</table>\n",
       "<p>4630 rows × 9 columns</p>\n",
       "</div>"
      ],
      "text/plain": [
       "     REVIEW ID        SOURCE       REVIEW BY REVIEW DATE  \\\n",
       "0          656  Trip Advisor            3612  2014-04-30   \n",
       "1         2208  Trip Advisor      9573519851  2015-07-24   \n",
       "2         3989  Trip Advisor        0iamsid0  2017-01-03   \n",
       "3         4561  Trip Advisor      1 All over  2017-04-02   \n",
       "4         3334  Trip Advisor           10vee  2016-08-29   \n",
       "...        ...           ...             ...         ...   \n",
       "4627      2231  Trip Advisor     yuvaramraja  2015-08-17   \n",
       "4628       389  Trip Advisor      yv_Shastry  2014-12-10   \n",
       "4629      3790  Trip Advisor        yyyasssh  2016-12-03   \n",
       "4630      4160  Trip Advisor         zach411  2017-02-01   \n",
       "4631      2879      Facebook  Ámît Çhãúdhåry  2015-11-11   \n",
       "\n",
       "                     REVIEW SUBJECT  \\\n",
       "0                     To commercial   \n",
       "1     ?Amazing temple in Bangalore?   \n",
       "2        Fully commercialized place   \n",
       "3               Off the beaten path   \n",
       "4         Peaceful and Serene place   \n",
       "...                             ...   \n",
       "4627    ?Peaceful place!!!!!!!!!!!?   \n",
       "4628           Clean but commercial   \n",
       "4629                        Worship   \n",
       "4630              Cool place to see   \n",
       "4631                            NaN   \n",
       "\n",
       "                                                   text REVIEW RATING  \\\n",
       "0     reativli new temple wa big hindu version dinne...             2   \n",
       "1                                                superb             5   \n",
       "2     give star felt shop mall instead temple otherw...             4   \n",
       "3     best peace place great infrastructure love vis...             5   \n",
       "4     tranquil midst business place place worth visi...             5   \n",
       "...                                                 ...           ...   \n",
       "4627  wait lord birthday prepare go grandly though f...             5   \n",
       "4628  temple clean attitude hare krishna hill ensue ...             4   \n",
       "4629  icon temple avail almost major city bengaluru ...             5   \n",
       "4630  well maintain expect icon administer prasadam ...             5   \n",
       "4631  worthwhile place visit family temple well plan...             5   \n",
       "\n",
       "     REVIEW TYPE  YEAR  \n",
       "0       NEGATIVE  2014  \n",
       "1       POSITIVE  2015  \n",
       "2       NEGATIVE  2017  \n",
       "3       POSITIVE  2017  \n",
       "4       POSITIVE  2016  \n",
       "...          ...   ...  \n",
       "4627    POSITIVE  2015  \n",
       "4628       MIXED  2014  \n",
       "4629    POSITIVE  2016  \n",
       "4630    POSITIVE  2017  \n",
       "4631    POSITIVE  2015  \n",
       "\n",
       "[4630 rows x 9 columns]"
      ]
     },
     "execution_count": 248,
     "metadata": {},
     "output_type": "execute_result"
    }
   ],
   "source": [
    "df2 = df2[~df2['REVIEW TYPE'].isin(['SUGGESTION', 'QUERY'])]\n",
    "df2"
   ]
  },
  {
   "cell_type": "markdown",
   "metadata": {},
   "source": [
    "# Question 4"
   ]
  },
  {
   "cell_type": "markdown",
   "metadata": {},
   "source": [
    "Explore Data with EDA."
   ]
  },
  {
   "cell_type": "code",
   "execution_count": 249,
   "metadata": {},
   "outputs": [
    {
     "data": {
      "image/png": "[encoded data removed]",
      "text/plain": [
       "<Figure size 800x600 with 1 Axes>"
      ]
     },
     "metadata": {},
     "output_type": "display_data"
    }
   ],
   "source": [
    "review_counts = df2['REVIEW TYPE'].value_counts()\n",
    "\n",
    "# Plot the distribution of review types\n",
    "plt.figure(figsize=(8, 6))\n",
    "review_counts.plot(kind='bar')\n",
    "plt.title('Distribution of Review Types')\n",
    "plt.xlabel('Review Type')\n",
    "plt.ylabel('Number of Reviews')\n",
    "plt.xticks(rotation=0)\n",
    "plt.show()"
   ]
  },
  {
   "cell_type": "markdown",
   "metadata": {},
   "source": [
    "I find that most of the reviews has REVIEW TYPE of POSITIVE, this may result in bias in future analysis."
   ]
  },
  {
   "cell_type": "code",
   "execution_count": 250,
   "metadata": {},
   "outputs": [
    {
     "data": {
      "image/png": "[encoded data removed]",
      "text/plain": [
       "<Figure size 800x600 with 1 Axes>"
      ]
     },
     "metadata": {},
     "output_type": "display_data"
    }
   ],
   "source": [
    "# Convert REVIEW DATE to datetime\n",
    "df2['REVIEW DATE'] = pd.to_datetime(df2['REVIEW DATE'])\n",
    "\n",
    "# Distribution of Ratings\n",
    "plt.figure(figsize=(8, 6))\n",
    "sns.countplot(x='REVIEW RATING', data=df2)\n",
    "plt.title('Distribution of Review Ratings')\n",
    "plt.xlabel('Rating')\n",
    "plt.ylabel('Count')\n",
    "plt.show()"
   ]
  },
  {
   "cell_type": "markdown",
   "metadata": {},
   "source": [
    "Most reviews have high ratings at 4 and 5 which futher proves that most reviews are positive."
   ]
  },
  {
   "cell_type": "code",
   "execution_count": 251,
   "metadata": {},
   "outputs": [
    {
     "data": {
      "image/png": "[encoded data removed]",
      "text/plain": [
       "<Figure size 1000x600 with 1 Axes>"
      ]
     },
     "metadata": {},
     "output_type": "display_data"
    }
   ],
   "source": [
    "# Temporal Trends\n",
    "# For demonstration purposes, we'll assume we want to see the count of reviews by year\n",
    "df2['YEAR'] = df2['REVIEW DATE'].dt.year\n",
    "reviews_per_year = df2.groupby('YEAR').size()\n",
    "\n",
    "plt.figure(figsize=(10, 6))\n",
    "reviews_per_year.plot(kind='bar')\n",
    "plt.title('Number of Reviews per Year')\n",
    "plt.xlabel('Year')\n",
    "plt.ylabel('Number of Reviews')\n",
    "plt.xticks(rotation=0)\n",
    "plt.show()"
   ]
  },
  {
   "cell_type": "markdown",
   "metadata": {},
   "source": [
    "It is interesting to see that later years has more reviews."
   ]
  },
  {
   "cell_type": "code",
   "execution_count": 252,
   "metadata": {},
   "outputs": [
    {
     "data": {
      "image/png": "[encoded data removed]",
      "text/plain": [
       "<Figure size 1000x600 with 1 Axes>"
      ]
     },
     "metadata": {},
     "output_type": "display_data"
    }
   ],
   "source": [
    "# Source Comparison\n",
    "plt.figure(figsize=(10, 6))\n",
    "sns.countplot(x='SOURCE', data=df2)\n",
    "plt.title('Comparison of Review Sources')\n",
    "plt.xlabel('Source')\n",
    "plt.ylabel('Count')\n",
    "plt.show()"
   ]
  },
  {
   "cell_type": "markdown",
   "metadata": {},
   "source": [
    "Most reviews are collected from Trip Advisor."
   ]
  },
  {
   "cell_type": "markdown",
   "metadata": {},
   "source": [
    "# Question 5"
   ]
  },
  {
   "cell_type": "markdown",
   "metadata": {},
   "source": [
    "Feature Extraction."
   ]
  },
  {
   "cell_type": "code",
   "execution_count": 253,
   "metadata": {},
   "outputs": [
    {
     "data": {
      "text/html": [
       "<div>\n",
       "<style scoped>\n",
       "    .dataframe tbody tr th:only-of-type {\n",
       "        vertical-align: middle;\n",
       "    }\n",
       "\n",
       "    .dataframe tbody tr th {\n",
       "        vertical-align: top;\n",
       "    }\n",
       "\n",
       "    .dataframe thead th {\n",
       "        text-align: right;\n",
       "    }\n",
       "</style>\n",
       "<table border=\"1\" class=\"dataframe\">\n",
       "  <thead>\n",
       "    <tr style=\"text-align: right;\">\n",
       "      <th></th>\n",
       "      <th>TF-IDF Weight</th>\n",
       "    </tr>\n",
       "  </thead>\n",
       "  <tbody>\n",
       "    <tr>\n",
       "      <th>temple</th>\n",
       "      <td>0.077904</td>\n",
       "    </tr>\n",
       "    <tr>\n",
       "      <th>place</th>\n",
       "      <td>0.069787</td>\n",
       "    </tr>\n",
       "    <tr>\n",
       "      <th>visit</th>\n",
       "      <td>0.050986</td>\n",
       "    </tr>\n",
       "    <tr>\n",
       "      <th>good</th>\n",
       "      <td>0.043716</td>\n",
       "    </tr>\n",
       "    <tr>\n",
       "      <th>nice</th>\n",
       "      <td>0.043456</td>\n",
       "    </tr>\n",
       "    <tr>\n",
       "      <th>...</th>\n",
       "      <td>...</td>\n",
       "    </tr>\n",
       "    <tr>\n",
       "      <th>ingrejra</th>\n",
       "      <td>0.000006</td>\n",
       "    </tr>\n",
       "    <tr>\n",
       "      <th>obosthar</th>\n",
       "      <td>0.000006</td>\n",
       "    </tr>\n",
       "    <tr>\n",
       "      <th>teno</th>\n",
       "      <td>0.000006</td>\n",
       "    </tr>\n",
       "    <tr>\n",
       "      <th>obhishaap</th>\n",
       "      <td>0.000006</td>\n",
       "    </tr>\n",
       "    <tr>\n",
       "      <th>leelabhumi</th>\n",
       "      <td>0.000006</td>\n",
       "    </tr>\n",
       "  </tbody>\n",
       "</table>\n",
       "<p>4487 rows × 1 columns</p>\n",
       "</div>"
      ],
      "text/plain": [
       "            TF-IDF Weight\n",
       "temple           0.077904\n",
       "place            0.069787\n",
       "visit            0.050986\n",
       "good             0.043716\n",
       "nice             0.043456\n",
       "...                   ...\n",
       "ingrejra         0.000006\n",
       "obosthar         0.000006\n",
       "teno             0.000006\n",
       "obhishaap        0.000006\n",
       "leelabhumi       0.000006\n",
       "\n",
       "[4487 rows x 1 columns]"
      ]
     },
     "execution_count": 253,
     "metadata": {},
     "output_type": "execute_result"
    }
   ],
   "source": [
    "# Replace NaN values with empty strings\n",
    "#df2['text'] = df2['text'].fillna('')\n",
    "\n",
    "# vectorization\n",
    "v = TfidfVectorizer(ngram_range=(1,1), tokenizer=word_tokenize)\n",
    "\n",
    "sparse_matrix_tfidf = v.fit_transform(df2['text'])\n",
    "\n",
    "tfidf_weight = sparse_matrix_tfidf.mean(axis=0).A1\n",
    "\n",
    "words_tfidf = pd.DataFrame(tfidf_weight, index=v.get_feature_names_out(), columns=['TF-IDF Weight'])\n",
    "words_tfidf.sort_values(by='TF-IDF Weight',inplace=True,ascending=False)\n",
    "words_tfidf"
   ]
  },
  {
   "cell_type": "markdown",
   "metadata": {},
   "source": [
    "Feature Selection."
   ]
  },
  {
   "cell_type": "code",
   "execution_count": 257,
   "metadata": {},
   "outputs": [],
   "source": [
    "# Set the quantile threshold. Select the top 10% of TF-IDF weights.\n",
    "threshold = words_tfidf['TF-IDF Weight'].quantile(0.90)\n",
    "\n",
    "# Select words that have a TF-IDF weight above the threshold\n",
    "selected_features = words_tfidf[words_tfidf['TF-IDF Weight'] > threshold].index.tolist()\n",
    "selected_feature_indices = [v.vocabulary_[feature] for feature in selected_features if feature in v.vocabulary_]"
   ]
  },
  {
   "cell_type": "markdown",
   "metadata": {},
   "source": [
    "Supervised ML Model for Sentiment Prediction with Data Split: 60% Training,  20% Test, 20% Validation."
   ]
  },
  {
   "cell_type": "code",
   "execution_count": 290,
   "metadata": {},
   "outputs": [
    {
     "name": "stdout",
     "output_type": "stream",
     "text": [
      "Best Alpha: 0.1, Best Validation Accuracy: 0.8563714902807775\n",
      "['POSITIVE' 'POSITIVE' 'POSITIVE' 'POSITIVE' 'POSITIVE' 'POSITIVE'\n",
      " 'POSITIVE' 'POSITIVE' 'POSITIVE' 'POSITIVE' 'POSITIVE' 'POSITIVE'\n",
      " 'POSITIVE' 'POSITIVE' 'POSITIVE' 'POSITIVE' 'POSITIVE' 'POSITIVE'\n",
      " 'POSITIVE' 'POSITIVE' 'POSITIVE' 'POSITIVE' 'POSITIVE' 'POSITIVE'\n",
      " 'POSITIVE' 'POSITIVE' 'POSITIVE' 'POSITIVE' 'POSITIVE' 'POSITIVE'\n",
      " 'POSITIVE' 'POSITIVE' 'POSITIVE' 'POSITIVE' 'POSITIVE' 'POSITIVE'\n",
      " 'POSITIVE' 'POSITIVE' 'POSITIVE' 'POSITIVE' 'POSITIVE' 'POSITIVE'\n",
      " 'POSITIVE' 'POSITIVE' 'POSITIVE' 'POSITIVE' 'POSITIVE' 'POSITIVE'\n",
      " 'POSITIVE' 'POSITIVE' 'POSITIVE' 'POSITIVE' 'POSITIVE' 'POSITIVE'\n",
      " 'POSITIVE' 'POSITIVE' 'POSITIVE' 'POSITIVE' 'POSITIVE' 'POSITIVE'\n",
      " 'POSITIVE' 'POSITIVE' 'POSITIVE' 'POSITIVE' 'POSITIVE' 'POSITIVE'\n",
      " 'POSITIVE' 'POSITIVE' 'POSITIVE' 'POSITIVE' 'POSITIVE' 'POSITIVE'\n",
      " 'POSITIVE' 'POSITIVE' 'POSITIVE' 'POSITIVE' 'POSITIVE' 'POSITIVE'\n",
      " 'POSITIVE' 'POSITIVE' 'POSITIVE' 'POSITIVE' 'POSITIVE' 'POSITIVE'\n",
      " 'POSITIVE' 'POSITIVE' 'POSITIVE' 'POSITIVE' 'POSITIVE' 'POSITIVE'\n",
      " 'POSITIVE' 'POSITIVE' 'POSITIVE' 'POSITIVE' 'POSITIVE' 'POSITIVE'\n",
      " 'POSITIVE' 'POSITIVE' 'POSITIVE' 'POSITIVE' 'POSITIVE' 'POSITIVE'\n",
      " 'POSITIVE' 'POSITIVE' 'POSITIVE' 'POSITIVE' 'POSITIVE' 'POSITIVE'\n",
      " 'POSITIVE' 'POSITIVE' 'POSITIVE' 'POSITIVE' 'POSITIVE' 'POSITIVE'\n",
      " 'POSITIVE' 'POSITIVE' 'POSITIVE' 'POSITIVE' 'POSITIVE' 'POSITIVE'\n",
      " 'POSITIVE' 'POSITIVE' 'POSITIVE' 'POSITIVE' 'POSITIVE' 'POSITIVE'\n",
      " 'POSITIVE' 'POSITIVE' 'POSITIVE' 'POSITIVE' 'POSITIVE' 'POSITIVE'\n",
      " 'POSITIVE' 'POSITIVE' 'POSITIVE' 'POSITIVE' 'POSITIVE' 'POSITIVE'\n",
      " 'POSITIVE' 'POSITIVE' 'POSITIVE' 'POSITIVE' 'POSITIVE' 'POSITIVE'\n",
      " 'POSITIVE' 'POSITIVE' 'POSITIVE' 'POSITIVE' 'POSITIVE' 'POSITIVE'\n",
      " 'POSITIVE' 'POSITIVE' 'POSITIVE' 'POSITIVE' 'POSITIVE' 'POSITIVE'\n",
      " 'POSITIVE' 'POSITIVE' 'POSITIVE' 'POSITIVE' 'POSITIVE' 'POSITIVE'\n",
      " 'POSITIVE' 'POSITIVE' 'POSITIVE' 'POSITIVE' 'POSITIVE' 'POSITIVE'\n",
      " 'POSITIVE' 'POSITIVE' 'POSITIVE' 'POSITIVE' 'POSITIVE' 'POSITIVE'\n",
      " 'POSITIVE' 'POSITIVE' 'POSITIVE' 'POSITIVE' 'POSITIVE' 'POSITIVE'\n",
      " 'POSITIVE' 'POSITIVE' 'POSITIVE' 'POSITIVE' 'POSITIVE' 'POSITIVE'\n",
      " 'POSITIVE' 'POSITIVE' 'POSITIVE' 'POSITIVE' 'POSITIVE' 'POSITIVE'\n",
      " 'POSITIVE' 'POSITIVE' 'POSITIVE' 'POSITIVE' 'POSITIVE' 'POSITIVE'\n",
      " 'POSITIVE' 'POSITIVE' 'POSITIVE' 'POSITIVE' 'POSITIVE' 'POSITIVE'\n",
      " 'POSITIVE' 'POSITIVE' 'POSITIVE' 'POSITIVE' 'POSITIVE' 'POSITIVE'\n",
      " 'POSITIVE' 'POSITIVE' 'POSITIVE' 'POSITIVE' 'POSITIVE' 'POSITIVE'\n",
      " 'POSITIVE' 'POSITIVE' 'POSITIVE' 'POSITIVE' 'POSITIVE' 'POSITIVE'\n",
      " 'POSITIVE' 'POSITIVE' 'POSITIVE' 'POSITIVE' 'POSITIVE' 'POSITIVE'\n",
      " 'POSITIVE' 'POSITIVE' 'POSITIVE' 'POSITIVE' 'POSITIVE' 'POSITIVE'\n",
      " 'POSITIVE' 'POSITIVE' 'POSITIVE' 'POSITIVE' 'POSITIVE' 'POSITIVE'\n",
      " 'POSITIVE' 'POSITIVE' 'POSITIVE' 'POSITIVE' 'POSITIVE' 'POSITIVE'\n",
      " 'POSITIVE' 'POSITIVE' 'POSITIVE' 'POSITIVE' 'POSITIVE' 'POSITIVE'\n",
      " 'POSITIVE' 'POSITIVE' 'POSITIVE' 'POSITIVE' 'POSITIVE' 'POSITIVE'\n",
      " 'POSITIVE' 'POSITIVE' 'POSITIVE' 'POSITIVE' 'POSITIVE' 'POSITIVE'\n",
      " 'POSITIVE' 'POSITIVE' 'POSITIVE' 'POSITIVE' 'POSITIVE' 'POSITIVE'\n",
      " 'POSITIVE' 'POSITIVE' 'POSITIVE' 'POSITIVE' 'POSITIVE' 'POSITIVE'\n",
      " 'POSITIVE' 'POSITIVE' 'POSITIVE' 'POSITIVE' 'POSITIVE' 'POSITIVE'\n",
      " 'POSITIVE' 'POSITIVE' 'POSITIVE' 'POSITIVE' 'POSITIVE' 'POSITIVE'\n",
      " 'POSITIVE' 'POSITIVE' 'POSITIVE' 'POSITIVE' 'POSITIVE' 'POSITIVE'\n",
      " 'POSITIVE' 'POSITIVE' 'POSITIVE' 'POSITIVE' 'POSITIVE' 'POSITIVE'\n",
      " 'POSITIVE' 'POSITIVE' 'POSITIVE' 'POSITIVE' 'POSITIVE' 'POSITIVE'\n",
      " 'POSITIVE' 'POSITIVE' 'POSITIVE' 'POSITIVE' 'POSITIVE' 'POSITIVE'\n",
      " 'POSITIVE' 'POSITIVE' 'POSITIVE' 'POSITIVE' 'POSITIVE' 'POSITIVE'\n",
      " 'POSITIVE' 'POSITIVE' 'POSITIVE' 'POSITIVE' 'POSITIVE' 'POSITIVE'\n",
      " 'POSITIVE' 'POSITIVE' 'POSITIVE' 'POSITIVE' 'POSITIVE' 'POSITIVE'\n",
      " 'POSITIVE' 'POSITIVE' 'POSITIVE' 'POSITIVE' 'POSITIVE' 'POSITIVE'\n",
      " 'POSITIVE' 'POSITIVE' 'POSITIVE' 'POSITIVE' 'POSITIVE' 'POSITIVE'\n",
      " 'POSITIVE' 'POSITIVE' 'POSITIVE' 'POSITIVE' 'POSITIVE' 'POSITIVE'\n",
      " 'POSITIVE' 'POSITIVE' 'POSITIVE' 'POSITIVE' 'POSITIVE' 'POSITIVE'\n",
      " 'POSITIVE' 'POSITIVE' 'POSITIVE' 'POSITIVE' 'POSITIVE' 'POSITIVE'\n",
      " 'POSITIVE' 'POSITIVE' 'POSITIVE' 'POSITIVE' 'POSITIVE' 'POSITIVE'\n",
      " 'POSITIVE' 'POSITIVE' 'POSITIVE' 'POSITIVE' 'POSITIVE' 'POSITIVE'\n",
      " 'POSITIVE' 'POSITIVE' 'POSITIVE' 'POSITIVE' 'POSITIVE' 'POSITIVE'\n",
      " 'POSITIVE' 'POSITIVE' 'POSITIVE' 'POSITIVE' 'POSITIVE' 'POSITIVE'\n",
      " 'POSITIVE' 'POSITIVE' 'POSITIVE' 'POSITIVE' 'POSITIVE' 'POSITIVE'\n",
      " 'POSITIVE' 'POSITIVE' 'POSITIVE' 'POSITIVE' 'POSITIVE' 'POSITIVE'\n",
      " 'POSITIVE' 'POSITIVE' 'POSITIVE' 'POSITIVE' 'POSITIVE' 'POSITIVE'\n",
      " 'POSITIVE' 'POSITIVE' 'POSITIVE' 'POSITIVE' 'POSITIVE' 'POSITIVE'\n",
      " 'POSITIVE' 'POSITIVE' 'POSITIVE' 'POSITIVE' 'POSITIVE' 'POSITIVE'\n",
      " 'POSITIVE' 'POSITIVE' 'POSITIVE' 'POSITIVE' 'POSITIVE' 'POSITIVE'\n",
      " 'POSITIVE' 'POSITIVE' 'POSITIVE' 'POSITIVE' 'POSITIVE' 'POSITIVE'\n",
      " 'POSITIVE' 'POSITIVE' 'POSITIVE' 'POSITIVE' 'POSITIVE' 'POSITIVE'\n",
      " 'POSITIVE' 'POSITIVE' 'POSITIVE' 'POSITIVE' 'POSITIVE' 'POSITIVE'\n",
      " 'POSITIVE' 'POSITIVE' 'POSITIVE' 'POSITIVE' 'POSITIVE' 'POSITIVE'\n",
      " 'POSITIVE' 'POSITIVE' 'POSITIVE' 'POSITIVE' 'POSITIVE' 'POSITIVE'\n",
      " 'POSITIVE' 'POSITIVE' 'POSITIVE' 'POSITIVE' 'POSITIVE' 'POSITIVE'\n",
      " 'POSITIVE' 'POSITIVE' 'POSITIVE' 'POSITIVE' 'POSITIVE' 'POSITIVE'\n",
      " 'POSITIVE' 'POSITIVE' 'POSITIVE' 'POSITIVE' 'POSITIVE' 'POSITIVE'\n",
      " 'POSITIVE' 'POSITIVE' 'POSITIVE' 'POSITIVE' 'POSITIVE' 'POSITIVE'\n",
      " 'POSITIVE' 'POSITIVE' 'POSITIVE' 'POSITIVE' 'POSITIVE' 'POSITIVE'\n",
      " 'POSITIVE' 'POSITIVE' 'POSITIVE' 'POSITIVE' 'POSITIVE' 'POSITIVE'\n",
      " 'POSITIVE' 'POSITIVE' 'POSITIVE' 'POSITIVE' 'POSITIVE' 'POSITIVE'\n",
      " 'POSITIVE' 'POSITIVE' 'POSITIVE' 'POSITIVE' 'POSITIVE' 'POSITIVE'\n",
      " 'POSITIVE' 'POSITIVE' 'POSITIVE' 'POSITIVE' 'POSITIVE' 'POSITIVE'\n",
      " 'POSITIVE' 'POSITIVE' 'POSITIVE' 'POSITIVE' 'POSITIVE' 'POSITIVE'\n",
      " 'POSITIVE' 'POSITIVE' 'POSITIVE' 'POSITIVE' 'POSITIVE' 'POSITIVE'\n",
      " 'POSITIVE' 'POSITIVE' 'POSITIVE' 'POSITIVE' 'POSITIVE' 'POSITIVE'\n",
      " 'POSITIVE' 'POSITIVE' 'POSITIVE' 'POSITIVE' 'POSITIVE' 'POSITIVE'\n",
      " 'POSITIVE' 'POSITIVE' 'POSITIVE' 'POSITIVE' 'POSITIVE' 'POSITIVE'\n",
      " 'POSITIVE' 'POSITIVE' 'POSITIVE' 'POSITIVE' 'POSITIVE' 'POSITIVE'\n",
      " 'POSITIVE' 'POSITIVE' 'POSITIVE' 'POSITIVE' 'POSITIVE' 'POSITIVE'\n",
      " 'POSITIVE' 'POSITIVE' 'POSITIVE' 'POSITIVE' 'POSITIVE' 'POSITIVE'\n",
      " 'POSITIVE' 'POSITIVE' 'POSITIVE' 'POSITIVE' 'POSITIVE' 'POSITIVE'\n",
      " 'POSITIVE' 'POSITIVE' 'POSITIVE' 'POSITIVE' 'POSITIVE' 'POSITIVE'\n",
      " 'POSITIVE' 'POSITIVE' 'POSITIVE' 'POSITIVE' 'POSITIVE' 'POSITIVE'\n",
      " 'POSITIVE' 'POSITIVE' 'POSITIVE' 'POSITIVE' 'POSITIVE' 'POSITIVE'\n",
      " 'POSITIVE' 'POSITIVE' 'POSITIVE' 'POSITIVE' 'POSITIVE' 'POSITIVE'\n",
      " 'POSITIVE' 'POSITIVE' 'POSITIVE' 'POSITIVE' 'POSITIVE' 'POSITIVE'\n",
      " 'POSITIVE' 'POSITIVE' 'POSITIVE' 'POSITIVE' 'POSITIVE' 'POSITIVE'\n",
      " 'POSITIVE' 'POSITIVE' 'POSITIVE' 'POSITIVE' 'POSITIVE' 'POSITIVE'\n",
      " 'POSITIVE' 'POSITIVE' 'POSITIVE' 'POSITIVE' 'POSITIVE' 'POSITIVE'\n",
      " 'POSITIVE' 'POSITIVE' 'POSITIVE' 'POSITIVE' 'POSITIVE' 'POSITIVE'\n",
      " 'POSITIVE' 'POSITIVE' 'POSITIVE' 'POSITIVE' 'POSITIVE' 'POSITIVE'\n",
      " 'POSITIVE' 'POSITIVE' 'POSITIVE' 'POSITIVE' 'POSITIVE' 'POSITIVE'\n",
      " 'POSITIVE' 'POSITIVE' 'POSITIVE' 'POSITIVE' 'POSITIVE' 'POSITIVE'\n",
      " 'POSITIVE' 'POSITIVE' 'POSITIVE' 'POSITIVE' 'POSITIVE' 'POSITIVE'\n",
      " 'POSITIVE' 'POSITIVE' 'POSITIVE' 'POSITIVE' 'POSITIVE' 'POSITIVE'\n",
      " 'POSITIVE' 'POSITIVE' 'POSITIVE' 'POSITIVE' 'POSITIVE' 'POSITIVE'\n",
      " 'POSITIVE' 'POSITIVE' 'POSITIVE' 'POSITIVE' 'POSITIVE' 'POSITIVE'\n",
      " 'POSITIVE' 'POSITIVE' 'POSITIVE' 'POSITIVE' 'POSITIVE' 'POSITIVE'\n",
      " 'POSITIVE' 'POSITIVE' 'POSITIVE' 'POSITIVE' 'POSITIVE' 'POSITIVE'\n",
      " 'POSITIVE' 'POSITIVE' 'POSITIVE' 'POSITIVE' 'POSITIVE' 'POSITIVE'\n",
      " 'POSITIVE' 'POSITIVE' 'POSITIVE' 'POSITIVE' 'POSITIVE' 'POSITIVE'\n",
      " 'POSITIVE' 'POSITIVE' 'POSITIVE' 'POSITIVE' 'POSITIVE' 'POSITIVE'\n",
      " 'POSITIVE' 'POSITIVE' 'POSITIVE' 'POSITIVE' 'POSITIVE' 'POSITIVE'\n",
      " 'POSITIVE' 'POSITIVE' 'POSITIVE' 'POSITIVE' 'POSITIVE' 'POSITIVE'\n",
      " 'POSITIVE' 'POSITIVE' 'POSITIVE' 'POSITIVE' 'POSITIVE' 'POSITIVE'\n",
      " 'POSITIVE' 'POSITIVE' 'POSITIVE' 'POSITIVE' 'POSITIVE' 'POSITIVE'\n",
      " 'POSITIVE' 'POSITIVE' 'POSITIVE' 'POSITIVE' 'POSITIVE' 'POSITIVE'\n",
      " 'POSITIVE' 'POSITIVE' 'POSITIVE' 'POSITIVE' 'POSITIVE' 'POSITIVE'\n",
      " 'POSITIVE' 'POSITIVE' 'POSITIVE' 'POSITIVE' 'POSITIVE' 'POSITIVE'\n",
      " 'POSITIVE' 'POSITIVE' 'POSITIVE' 'POSITIVE' 'POSITIVE' 'POSITIVE'\n",
      " 'POSITIVE' 'POSITIVE' 'POSITIVE' 'POSITIVE' 'POSITIVE' 'POSITIVE'\n",
      " 'POSITIVE' 'POSITIVE' 'POSITIVE' 'POSITIVE' 'POSITIVE' 'POSITIVE'\n",
      " 'POSITIVE' 'POSITIVE' 'POSITIVE' 'POSITIVE' 'POSITIVE' 'POSITIVE'\n",
      " 'POSITIVE' 'POSITIVE' 'POSITIVE' 'POSITIVE' 'POSITIVE' 'POSITIVE'\n",
      " 'POSITIVE' 'POSITIVE' 'POSITIVE' 'POSITIVE' 'POSITIVE' 'POSITIVE'\n",
      " 'POSITIVE' 'POSITIVE' 'POSITIVE' 'POSITIVE' 'POSITIVE' 'POSITIVE'\n",
      " 'POSITIVE' 'POSITIVE' 'POSITIVE' 'POSITIVE' 'POSITIVE' 'POSITIVE'\n",
      " 'POSITIVE' 'POSITIVE' 'POSITIVE' 'POSITIVE' 'POSITIVE' 'POSITIVE'\n",
      " 'POSITIVE' 'POSITIVE' 'POSITIVE' 'POSITIVE' 'POSITIVE' 'POSITIVE'\n",
      " 'POSITIVE' 'POSITIVE' 'POSITIVE' 'POSITIVE' 'POSITIVE' 'POSITIVE'\n",
      " 'POSITIVE' 'POSITIVE' 'POSITIVE' 'POSITIVE' 'POSITIVE' 'POSITIVE'\n",
      " 'POSITIVE' 'POSITIVE' 'POSITIVE' 'POSITIVE' 'POSITIVE' 'POSITIVE'\n",
      " 'POSITIVE' 'POSITIVE' 'POSITIVE' 'POSITIVE' 'POSITIVE' 'POSITIVE'\n",
      " 'POSITIVE' 'POSITIVE' 'POSITIVE' 'POSITIVE' 'POSITIVE' 'POSITIVE'\n",
      " 'POSITIVE' 'POSITIVE' 'POSITIVE' 'POSITIVE' 'POSITIVE' 'POSITIVE'\n",
      " 'POSITIVE' 'POSITIVE' 'POSITIVE' 'POSITIVE' 'POSITIVE' 'POSITIVE'\n",
      " 'POSITIVE' 'POSITIVE' 'POSITIVE' 'POSITIVE' 'POSITIVE' 'POSITIVE'\n",
      " 'POSITIVE' 'POSITIVE' 'POSITIVE' 'POSITIVE' 'POSITIVE' 'POSITIVE'\n",
      " 'POSITIVE' 'POSITIVE' 'POSITIVE' 'POSITIVE' 'POSITIVE' 'POSITIVE'\n",
      " 'POSITIVE' 'POSITIVE' 'POSITIVE' 'POSITIVE' 'POSITIVE' 'POSITIVE'\n",
      " 'POSITIVE' 'POSITIVE' 'POSITIVE' 'POSITIVE' 'POSITIVE' 'POSITIVE'\n",
      " 'POSITIVE' 'POSITIVE' 'POSITIVE' 'POSITIVE' 'POSITIVE' 'POSITIVE'\n",
      " 'POSITIVE' 'POSITIVE' 'POSITIVE' 'POSITIVE' 'POSITIVE' 'POSITIVE'\n",
      " 'POSITIVE' 'POSITIVE' 'POSITIVE' 'POSITIVE' 'POSITIVE' 'POSITIVE'\n",
      " 'POSITIVE' 'POSITIVE' 'POSITIVE' 'POSITIVE' 'POSITIVE' 'POSITIVE'\n",
      " 'POSITIVE' 'POSITIVE' 'POSITIVE' 'POSITIVE' 'POSITIVE' 'POSITIVE'\n",
      " 'POSITIVE' 'POSITIVE' 'POSITIVE' 'POSITIVE' 'POSITIVE' 'POSITIVE'\n",
      " 'POSITIVE' 'POSITIVE' 'POSITIVE' 'POSITIVE' 'POSITIVE' 'POSITIVE'\n",
      " 'POSITIVE' 'POSITIVE' 'POSITIVE' 'POSITIVE' 'POSITIVE' 'POSITIVE'\n",
      " 'POSITIVE' 'POSITIVE' 'POSITIVE' 'POSITIVE' 'POSITIVE' 'POSITIVE'\n",
      " 'POSITIVE' 'POSITIVE' 'POSITIVE' 'POSITIVE' 'POSITIVE' 'POSITIVE'\n",
      " 'POSITIVE' 'POSITIVE' 'POSITIVE' 'POSITIVE' 'POSITIVE' 'POSITIVE'\n",
      " 'POSITIVE' 'POSITIVE']\n",
      "Test Accuracy: 0.8855291576673866\n"
     ]
    }
   ],
   "source": [
    "from sklearn.metrics import accuracy_score\n",
    "\n",
    "# X -> features, y -> label\n",
    "X = sparse_matrix_tfidf[:, selected_feature_indices]\n",
    "y = df2['REVIEW TYPE'].values\n",
    "\n",
    "# Split the data into training, validation, and test sets\n",
    "X_train, X_temp, y_train, y_temp = train_test_split(X, y, test_size=0.4, random_state=0)\n",
    "X_test, X_val, y_test, y_val = train_test_split(X_temp, y_temp, test_size=0.5, random_state=0)\n",
    "\n",
    "# Initialize the range for alpha values\n",
    "alpha_range = np.arange(0.1, 1.01, 0.1)\n",
    "\n",
    "# Placeholder for the best Laplacian Smoothing (alpha) and its corresponding accuracy\n",
    "best_alpha = None\n",
    "best_val_accuracy = 0\n",
    "\n",
    "# Loop over the alpha values to find the best one\n",
    "for alpha in alpha_range:\n",
    "    mnb = MultinomialNB(alpha=alpha)\n",
    "    mnb.fit(X_train, y_train)\n",
    "    y_val_pred = mnb.predict(X_val)\n",
    "    val_accuracy = accuracy_score(y_val, y_val_pred)\n",
    "    \n",
    "    # Update the best alpha if the current one is better\n",
    "    if val_accuracy > best_val_accuracy:\n",
    "        best_alpha = alpha\n",
    "        best_val_accuracy = val_accuracy\n",
    "\n",
    "# After finding the best alpha, print it out along with the accuracy\n",
    "print(f'Best Alpha: {best_alpha}, Best Validation Accuracy: {best_val_accuracy}')\n",
    "\n",
    "# Now, create a new model using the best alpha value and train it on the training set\n",
    "mnb_best = MultinomialNB(alpha=best_alpha)\n",
    "mnb_best.fit(X_train, y_train)\n",
    "\n",
    "# Finally, evaluate this model on the test set\n",
    "y_test_pred = mnb_best.predict(X_test)\n",
    "print(y_test_pred)\n",
    "test_accuracy = accuracy_score(y_test, y_test_pred)\n",
    "print(f'Test Accuracy: {test_accuracy}')\n"
   ]
  },
  {
   "cell_type": "markdown",
   "metadata": {},
   "source": [
    "I found that test accuracy is acceptable, however, all the predictions the model made is POSITIVE."
   ]
  },
  {
   "cell_type": "markdown",
   "metadata": {},
   "source": [
    "Evaluate Model Performance."
   ]
  },
  {
   "cell_type": "markdown",
   "metadata": {},
   "source": [
    "### Soft-Classifier Performance Evaluation"
   ]
  },
  {
   "cell_type": "code",
   "execution_count": 291,
   "metadata": {},
   "outputs": [
    {
     "data": {
      "text/plain": [
       "array([[0.04071219, 0.04654841, 0.01461138, 0.89812801],\n",
       "       [0.03067614, 0.04755061, 0.01140208, 0.91037117],\n",
       "       [0.00979013, 0.0234758 , 0.00605439, 0.96067969],\n",
       "       ...,\n",
       "       [0.03783589, 0.03825525, 0.01076756, 0.91314129],\n",
       "       [0.0536427 , 0.05897024, 0.01778846, 0.8695986 ],\n",
       "       [0.03881806, 0.0372853 , 0.00860128, 0.91529536]])"
      ]
     },
     "execution_count": 291,
     "metadata": {},
     "output_type": "execute_result"
    }
   ],
   "source": [
    "# Generate class membership probabilities\n",
    "y_preb_probs = mnb.predict_proba(X_test)\n",
    "y_preb_probs"
   ]
  },
  {
   "cell_type": "code",
   "execution_count": 292,
   "metadata": {},
   "outputs": [
    {
     "data": {
      "text/plain": [
       "array([[0., 0., 0., 1.],\n",
       "       [0., 0., 0., 1.],\n",
       "       [0., 0., 0., 1.],\n",
       "       ...,\n",
       "       [0., 0., 0., 1.],\n",
       "       [0., 0., 0., 1.],\n",
       "       [0., 0., 0., 1.]])"
      ]
     },
     "execution_count": 292,
     "metadata": {},
     "output_type": "execute_result"
    }
   ],
   "source": [
    "y_valid = pd.DataFrame(y_test)\n",
    "onehotencoder = OneHotEncoder()\n",
    "y_valid = onehotencoder.fit_transform(y_valid).toarray()\n",
    "y_valid"
   ]
  },
  {
   "cell_type": "code",
   "execution_count": 293,
   "metadata": {},
   "outputs": [
    {
     "data": {
      "text/plain": [
       "1093.6722315339061"
      ]
     },
     "execution_count": 293,
     "metadata": {},
     "output_type": "execute_result"
    }
   ],
   "source": [
    "Entropy1 = -sum([np.dot(y_valid[i], np.log2(y_preb_probs[i])) for i in range(len(y_preb_probs))])\n",
    "Entropy2 = -sum([np.dot(1-y_valid[i], np.log2(1-y_preb_probs[i])) for i in range(len(y_preb_probs))])\n",
    "Entropy1+ Entropy2"
   ]
  },
  {
   "cell_type": "markdown",
   "metadata": {},
   "source": [
    "An entropy of 1094 is pretty high,. It means the model is not as good."
   ]
  },
  {
   "cell_type": "markdown",
   "metadata": {},
   "source": [
    "### Hard-Classifier Performance Evaluation"
   ]
  },
  {
   "cell_type": "code",
   "execution_count": 297,
   "metadata": {},
   "outputs": [
    {
     "data": {
      "image/png": "[encoded data removed]",
      "text/plain": [
       "<Figure size 500x400 with 2 Axes>"
      ]
     },
     "metadata": {},
     "output_type": "display_data"
    },
    {
     "name": "stdout",
     "output_type": "stream",
     "text": [
      "              precision    recall  f1-score   support\n",
      "\n",
      "       MIXED       0.00      0.00      0.00        50\n",
      "    NEGATIVE       0.00      0.00      0.00        44\n",
      "     NEUTRAL       0.00      0.00      0.00        12\n",
      "    POSITIVE       0.89      1.00      0.94       820\n",
      "\n",
      "    accuracy                           0.89       926\n",
      "   macro avg       0.22      0.25      0.23       926\n",
      "weighted avg       0.78      0.89      0.83       926\n",
      "\n"
     ]
    }
   ],
   "source": [
    "cf_matrix=confusion_matrix(y_test,y_test_pred, labels=['MIXED', 'NEGATIVE', 'NEUTRAL', 'POSITIVE'])\n",
    "cf_matrix\n",
    "cm_df = pd.DataFrame(cf_matrix,\n",
    "                     index=['MIXED', 'NEGATIVE', 'NEUTRAL', 'POSITIVE'], \n",
    "                     columns=['MIXED', 'NEGATIVE', 'NEUTRAL', 'POSITIVE'])\n",
    "\n",
    "plt.figure(figsize=(5,4))\n",
    "sns.heatmap(cm_df, annot=True, fmt='g') \n",
    "plt.title('Confusion Matrix')\n",
    "plt.ylabel('Actual Values')\n",
    "plt.xlabel('Predicted Values')\n",
    "plt.show()\n",
    "\n",
    "print(classification_report(y_test, y_test_pred, target_names=['MIXED', 'NEGATIVE', 'NEUTRAL', 'POSITIVE']))"
   ]
  },
  {
   "cell_type": "markdown",
   "metadata": {},
   "source": [
    "The confusion matrix shows that neigher MIXED, NEGATIVE nor NEUTRAL has any precision. It leads to a very low macro average precision of 0.22. It means the model might not be acceptable."
   ]
  },
  {
   "cell_type": "markdown",
   "metadata": {},
   "source": [
    "# Question 6"
   ]
  },
  {
   "cell_type": "markdown",
   "metadata": {},
   "source": [
    "### Oversampling"
   ]
  },
  {
   "cell_type": "code",
   "execution_count": 315,
   "metadata": {},
   "outputs": [
    {
     "name": "stdout",
     "output_type": "stream",
     "text": [
      "['MIXED' 'NEGATIVE' 'NEUTRAL' 'POSITIVE'] [4013 4013 4013 4013]\n"
     ]
    }
   ],
   "source": [
    "oversample = SMOTE(random_state=7,k_neighbors=2)\n",
    "X_oversampled, y_oversampled = oversample.fit_resample(X,y)\n",
    "unique, counts = np.unique(y_oversampled, return_counts=True)\n",
    "print(unique, counts)"
   ]
  },
  {
   "cell_type": "code",
   "execution_count": 316,
   "metadata": {},
   "outputs": [
    {
     "name": "stdout",
     "output_type": "stream",
     "text": [
      "Best Alpha: 0.1, Best Validation Accuracy: 0.6337589535970103\n",
      "['NEGATIVE' 'NEGATIVE' 'POSITIVE' ... 'MIXED' 'NEUTRAL' 'MIXED']\n",
      "Test Accuracy: 0.6302180685358255\n"
     ]
    }
   ],
   "source": [
    "# Split the data into training, validation, and test sets\n",
    "X_train, X_temp, y_train, y_temp = train_test_split(X_oversampled, y_oversampled, test_size=0.4, random_state=0)\n",
    "X_test, X_val, y_test, y_val = train_test_split(X_temp, y_temp, test_size=0.5, random_state=0)\n",
    "\n",
    "# Initialize the range for alpha values\n",
    "alpha_range = np.arange(0.1, 1.01, 0.1)\n",
    "\n",
    "# Placeholder for the best Laplacian Smoothing (alpha) and its corresponding accuracy\n",
    "best_alpha = None\n",
    "best_val_accuracy = 0\n",
    "\n",
    "# Loop over the alpha values to find the best one\n",
    "for alpha in alpha_range:\n",
    "    mnb = MultinomialNB(alpha=alpha)\n",
    "    mnb.fit(X_train, y_train)\n",
    "    y_val_pred = mnb.predict(X_val)\n",
    "    val_accuracy = accuracy_score(y_val, y_val_pred)\n",
    "    \n",
    "    # Update the best alpha if the current one is better\n",
    "    if val_accuracy > best_val_accuracy:\n",
    "        best_alpha = alpha\n",
    "        best_val_accuracy = val_accuracy\n",
    "\n",
    "# After finding the best alpha, print it out along with the accuracy\n",
    "print(f'Best Alpha: {best_alpha}, Best Validation Accuracy: {best_val_accuracy}')\n",
    "\n",
    "# Now, create a new model using the best alpha value and train it on the training set\n",
    "mnb_best = MultinomialNB(alpha=best_alpha)\n",
    "mnb_best.fit(X_train, y_train)\n",
    "\n",
    "# Finally, evaluate this model on the test set\n",
    "y_test_pred = mnb_best.predict(X_test)\n",
    "print(y_test_pred)\n",
    "test_accuracy = accuracy_score(y_test, y_test_pred)\n",
    "print(f'Test Accuracy: {test_accuracy}')"
   ]
  },
  {
   "cell_type": "markdown",
   "metadata": {},
   "source": [
    "Test accuracy becomes lower, but conclusion should not be made too soon before seeing other evaluation matrices."
   ]
  },
  {
   "cell_type": "markdown",
   "metadata": {},
   "source": [
    "### Soft-Classifier Performance Evaluation"
   ]
  },
  {
   "cell_type": "code",
   "execution_count": 317,
   "metadata": {},
   "outputs": [],
   "source": [
    "# Generate class membership probabilities\n",
    "y_preb_probs = mnb.predict_proba(X_test)"
   ]
  },
  {
   "cell_type": "code",
   "execution_count": 318,
   "metadata": {},
   "outputs": [],
   "source": [
    "y_valid = pd.DataFrame(y_test)\n",
    "onehotencoder = OneHotEncoder()\n",
    "y_valid = onehotencoder.fit_transform(y_valid).toarray()"
   ]
  },
  {
   "cell_type": "code",
   "execution_count": 319,
   "metadata": {},
   "outputs": [
    {
     "data": {
      "text/plain": [
       "8770.339476766303"
      ]
     },
     "execution_count": 319,
     "metadata": {},
     "output_type": "execute_result"
    }
   ],
   "source": [
    "Entropy1 = -sum([np.dot(y_valid[i], np.log2(y_preb_probs[i])) for i in range(len(y_preb_probs))])\n",
    "Entropy2 = -sum([np.dot(1-y_valid[i], np.log2(1-y_preb_probs[i])) for i in range(len(y_preb_probs))])\n",
    "Entropy1+ Entropy2"
   ]
  },
  {
   "cell_type": "markdown",
   "metadata": {},
   "source": [
    "The entropy increased to nearly 9000 which shows that this model with oversampled data is terrible."
   ]
  },
  {
   "cell_type": "markdown",
   "metadata": {},
   "source": [
    "### Hard-Classifier Performance Evaluation"
   ]
  },
  {
   "cell_type": "code",
   "execution_count": 320,
   "metadata": {},
   "outputs": [
    {
     "data": {
      "image/png": "[encoded data removed]",
      "text/plain": [
       "<Figure size 500x400 with 2 Axes>"
      ]
     },
     "metadata": {},
     "output_type": "display_data"
    },
    {
     "name": "stdout",
     "output_type": "stream",
     "text": [
      "              precision    recall  f1-score   support\n",
      "\n",
      "       MIXED       0.63      0.66      0.64       792\n",
      "    NEGATIVE       0.69      0.45      0.54       842\n",
      "     NEUTRAL       0.72      0.89      0.80       782\n",
      "    POSITIVE       0.49      0.54      0.51       794\n",
      "\n",
      "    accuracy                           0.63      3210\n",
      "   macro avg       0.63      0.63      0.62      3210\n",
      "weighted avg       0.63      0.63      0.62      3210\n",
      "\n"
     ]
    }
   ],
   "source": [
    "cf_matrix=confusion_matrix(y_test,y_test_pred, labels=['MIXED', 'NEGATIVE', 'NEUTRAL', 'POSITIVE'])\n",
    "cf_matrix\n",
    "cm_df = pd.DataFrame(cf_matrix,\n",
    "                     index=['MIXED', 'NEGATIVE', 'NEUTRAL', 'POSITIVE'], \n",
    "                     columns=['MIXED', 'NEGATIVE', 'NEUTRAL', 'POSITIVE'])\n",
    "\n",
    "plt.figure(figsize=(5,4))\n",
    "sns.heatmap(cm_df, annot=True, fmt='g') \n",
    "plt.title('Confusion Matrix')\n",
    "plt.ylabel('Actual Values')\n",
    "plt.xlabel('Predicted Values')\n",
    "plt.show()\n",
    "\n",
    "print(classification_report(y_test, y_test_pred, target_names=['MIXED', 'NEGATIVE', 'NEUTRAL', 'POSITIVE']))"
   ]
  },
  {
   "cell_type": "markdown",
   "metadata": {},
   "source": [
    "On the other hand, since now the model generates predictions in all four categories, the macro average precision become higher to 0.63. It shows that the model improves in precision."
   ]
  },
  {
   "cell_type": "markdown",
   "metadata": {},
   "source": [
    "### Undersampling"
   ]
  },
  {
   "cell_type": "code",
   "execution_count": 321,
   "metadata": {},
   "outputs": [
    {
     "name": "stdout",
     "output_type": "stream",
     "text": [
      "['MIXED' 'NEGATIVE' 'NEUTRAL' 'POSITIVE'] [90 90 90 90]\n"
     ]
    }
   ],
   "source": [
    "undersample = NearMiss(version=1, n_neighbors=2)\n",
    "X_undersample, y_undersample = undersample.fit_resample(X, y)\n",
    "unique, counts = np.unique(y_undersample, return_counts=True)\n",
    "print(unique, counts)"
   ]
  },
  {
   "cell_type": "code",
   "execution_count": 322,
   "metadata": {},
   "outputs": [
    {
     "name": "stdout",
     "output_type": "stream",
     "text": [
      "Best Alpha: 0.1, Best Validation Accuracy: 0.4444444444444444\n",
      "['MIXED' 'NEUTRAL' 'POSITIVE' 'MIXED' 'NEUTRAL' 'POSITIVE' 'POSITIVE'\n",
      " 'NEGATIVE' 'MIXED' 'POSITIVE' 'POSITIVE' 'NEUTRAL' 'POSITIVE' 'MIXED'\n",
      " 'POSITIVE' 'POSITIVE' 'NEGATIVE' 'POSITIVE' 'NEGATIVE' 'MIXED' 'POSITIVE'\n",
      " 'NEGATIVE' 'NEGATIVE' 'MIXED' 'MIXED' 'MIXED' 'POSITIVE' 'POSITIVE'\n",
      " 'MIXED' 'POSITIVE' 'POSITIVE' 'MIXED' 'NEUTRAL' 'MIXED' 'MIXED' 'MIXED'\n",
      " 'MIXED' 'MIXED' 'POSITIVE' 'POSITIVE' 'POSITIVE' 'POSITIVE' 'MIXED'\n",
      " 'MIXED' 'NEGATIVE' 'NEGATIVE' 'MIXED' 'MIXED' 'NEUTRAL' 'NEUTRAL' 'MIXED'\n",
      " 'POSITIVE' 'MIXED' 'MIXED' 'MIXED' 'POSITIVE' 'POSITIVE' 'MIXED'\n",
      " 'POSITIVE' 'POSITIVE' 'MIXED' 'POSITIVE' 'MIXED' 'NEGATIVE' 'NEUTRAL'\n",
      " 'MIXED' 'MIXED' 'NEUTRAL' 'NEUTRAL' 'MIXED' 'MIXED' 'NEGATIVE']\n",
      "Test Accuracy: 0.4861111111111111\n"
     ]
    }
   ],
   "source": [
    "# Split the data into training, validation, and test sets\n",
    "X_train, X_temp, y_train, y_temp = train_test_split(X_undersample, y_undersample, test_size=0.4, random_state=0)\n",
    "X_test, X_val, y_test, y_val = train_test_split(X_temp, y_temp, test_size=0.5, random_state=0)\n",
    "\n",
    "# Initialize the range for alpha values\n",
    "alpha_range = np.arange(0.1, 1.01, 0.1)\n",
    "\n",
    "# Placeholder for the best Laplacian Smoothing (alpha) and its corresponding accuracy\n",
    "best_alpha = None\n",
    "best_val_accuracy = 0\n",
    "\n",
    "# Loop over the alpha values to find the best one\n",
    "for alpha in alpha_range:\n",
    "    mnb = MultinomialNB(alpha=alpha)\n",
    "    mnb.fit(X_train, y_train)\n",
    "    y_val_pred = mnb.predict(X_val)\n",
    "    val_accuracy = accuracy_score(y_val, y_val_pred)\n",
    "    \n",
    "    # Update the best alpha if the current one is better\n",
    "    if val_accuracy > best_val_accuracy:\n",
    "        best_alpha = alpha\n",
    "        best_val_accuracy = val_accuracy\n",
    "\n",
    "# After finding the best alpha, print it out along with the accuracy\n",
    "print(f'Best Alpha: {best_alpha}, Best Validation Accuracy: {best_val_accuracy}')\n",
    "\n",
    "# Now, create a new model using the best alpha value and train it on the training set\n",
    "mnb_best = MultinomialNB(alpha=best_alpha)\n",
    "mnb_best.fit(X_train, y_train)\n",
    "\n",
    "# Finally, evaluate this model on the test set\n",
    "y_test_pred = mnb_best.predict(X_test)\n",
    "print(y_test_pred)\n",
    "test_accuracy = accuracy_score(y_test, y_test_pred)\n",
    "print(f'Test Accuracy: {test_accuracy}')"
   ]
  },
  {
   "cell_type": "markdown",
   "metadata": {},
   "source": [
    "Test accuracy is now worse than random guess, lets see what other evaluation matrices show."
   ]
  },
  {
   "cell_type": "markdown",
   "metadata": {},
   "source": [
    "### Soft-Classifier Performance Evaluation"
   ]
  },
  {
   "cell_type": "code",
   "execution_count": 323,
   "metadata": {},
   "outputs": [],
   "source": [
    "# Generate class membership probabilities\n",
    "y_preb_probs = mnb.predict_proba(X_test)"
   ]
  },
  {
   "cell_type": "code",
   "execution_count": 324,
   "metadata": {},
   "outputs": [],
   "source": [
    "y_valid = pd.DataFrame(y_test)\n",
    "onehotencoder = OneHotEncoder()\n",
    "y_valid = onehotencoder.fit_transform(y_valid).toarray()"
   ]
  },
  {
   "cell_type": "code",
   "execution_count": 325,
   "metadata": {},
   "outputs": [
    {
     "data": {
      "text/plain": [
       "213.20290368994512"
      ]
     },
     "execution_count": 325,
     "metadata": {},
     "output_type": "execute_result"
    }
   ],
   "source": [
    "Entropy1 = -sum([np.dot(y_valid[i], np.log2(y_preb_probs[i])) for i in range(len(y_preb_probs))])\n",
    "Entropy2 = -sum([np.dot(1-y_valid[i], np.log2(1-y_preb_probs[i])) for i in range(len(y_preb_probs))])\n",
    "Entropy1+ Entropy2"
   ]
  },
  {
   "cell_type": "markdown",
   "metadata": {},
   "source": [
    "Surprisingly, the entropy decreased dramatically to neary 200. It means undersampling the data can improve the model by a lot."
   ]
  },
  {
   "cell_type": "markdown",
   "metadata": {},
   "source": [
    "### Hard-Classifier Performance Evaluation"
   ]
  },
  {
   "cell_type": "code",
   "execution_count": 326,
   "metadata": {},
   "outputs": [
    {
     "data": {
      "image/png": "[encoded data removed]",
      "text/plain": [
       "<Figure size 500x400 with 2 Axes>"
      ]
     },
     "metadata": {},
     "output_type": "display_data"
    },
    {
     "name": "stdout",
     "output_type": "stream",
     "text": [
      "              precision    recall  f1-score   support\n",
      "\n",
      "       MIXED       0.33      0.62      0.43        16\n",
      "    NEGATIVE       0.33      0.15      0.21        20\n",
      "     NEUTRAL       0.89      0.36      0.52        22\n",
      "    POSITIVE       0.58      1.00      0.74        14\n",
      "\n",
      "    accuracy                           0.49        72\n",
      "   macro avg       0.53      0.53      0.47        72\n",
      "weighted avg       0.55      0.49      0.46        72\n",
      "\n"
     ]
    }
   ],
   "source": [
    "cf_matrix=confusion_matrix(y_test,y_test_pred, labels=['MIXED', 'NEGATIVE', 'NEUTRAL', 'POSITIVE'])\n",
    "cf_matrix\n",
    "cm_df = pd.DataFrame(cf_matrix,\n",
    "                     index=['MIXED', 'NEGATIVE', 'NEUTRAL', 'POSITIVE'], \n",
    "                     columns=['MIXED', 'NEGATIVE', 'NEUTRAL', 'POSITIVE'])\n",
    "\n",
    "plt.figure(figsize=(5,4))\n",
    "sns.heatmap(cm_df, annot=True, fmt='g') \n",
    "plt.title('Confusion Matrix')\n",
    "plt.ylabel('Actual Values')\n",
    "plt.xlabel('Predicted Values')\n",
    "plt.show()\n",
    "\n",
    "print(classification_report(y_test, y_test_pred, target_names=['MIXED', 'NEGATIVE', 'NEUTRAL', 'POSITIVE']))"
   ]
  },
  {
   "cell_type": "markdown",
   "metadata": {},
   "source": [
    "It is interesting to see that the precision for REVIEW TYPE of NEUTRAL becomes very high. However, other categories' performance is mediocore and it leads to a slightly better overall macro average precision than the original modal."
   ]
  },
  {
   "cell_type": "markdown",
   "metadata": {},
   "source": [
    "# Question 7"
   ]
  },
  {
   "cell_type": "markdown",
   "metadata": {},
   "source": [
    "Predict the Sentiment of the Review using Unsupervised Learning."
   ]
  },
  {
   "cell_type": "code",
   "execution_count": 333,
   "metadata": {},
   "outputs": [
    {
     "data": {
      "text/plain": [
       "0        3.0\n",
       "1        5.0\n",
       "2        3.0\n",
       "3       11.0\n",
       "4        4.0\n",
       "        ... \n",
       "4627    -1.0\n",
       "4628    11.0\n",
       "4629     2.0\n",
       "4630     4.0\n",
       "4631     6.0\n",
       "Name: affin_score, Length: 4630, dtype: float64"
      ]
     },
     "execution_count": 333,
     "metadata": {},
     "output_type": "execute_result"
    }
   ],
   "source": [
    "from afinn import Afinn\n",
    "\n",
    "def lexicon_based_approach(text):\n",
    "    # Tokenize the text into words\n",
    "    words = word_tokenize(text)\n",
    "    # Score each word using Afinn and sum the scores\n",
    "    total_score = sum(Afinn().score(word) for word in words)\n",
    "    return total_score\n",
    "\n",
    "df2['affin_score'] = df2['text'].apply(lexicon_based_approach)\n",
    "df2['affin_score']"
   ]
  },
  {
   "cell_type": "markdown",
   "metadata": {},
   "source": [
    "# Question 8"
   ]
  },
  {
   "cell_type": "markdown",
   "metadata": {},
   "source": [
    "From this text-mining endeavor, I've gleaned several critical insights. Firstly, tasks like translation and spelling correction are notably time-intensive, which underscores the importance of efficient preprocessing in natural language processing workflows. Additionally, adjusting the Laplacian Smoothing parameter, alpha, had a negligible effect on training accuracy for this specific case, indicating a level of robustness or perhaps the minimal impact of smoothing given the dataset's characteristics. Another significant learning was the influence of imbalanced data on model performance, which often resulted in skewed evaluations. To mitigate the effects of data imbalance, strategies like oversampling and undersampling were considered. Interestingly, undersampling generally outperformed oversampling. This suggests that reducing the dataset to balance classes can be more effective than artificially augmenting it, which could introduce noise or overfitting due to repetitive, synthetic data."
   ]
  }
 ],
 "metadata": {
  "kernelspec": {
   "display_name": "Python 3",
   "language": "python",
   "name": "python3"
  },
  "language_info": {
   "codemirror_mode": {
    "name": "ipython",
    "version": 3
   },
   "file_extension": ".py",
   "mimetype": "text/x-python",
   "name": "python",
   "nbconvert_exporter": "python",
   "pygments_lexer": "ipython3",
   "version": "3.11.4"
  }
 },
 "nbformat": 4,
 "nbformat_minor": 2
}

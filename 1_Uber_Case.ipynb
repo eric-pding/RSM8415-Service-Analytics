{
  "nbformat": 4,
  "nbformat_minor": 0,
  "metadata": {
    "colab": {
      "provenance": [],
      "toc_visible": true,
      "include_colab_link": true
    },
    "kernelspec": {
      "name": "python3",
      "display_name": "Python 3"
    },
    "language_info": {
      "name": "python"
    }
  },
  "cells": [
    {
      "cell_type": "markdown",
      "metadata": {
        "id": "view-in-github",
        "colab_type": "text"
      },
      "source": [
        "<a href=\"https://colab.research.google.com/github/eric-pding/RSM8415-Service-Analytics/blob/main/1_Uber_Case.ipynb\" target=\"_parent\"><img src=\"https://colab.research.google.com/assets/colab-badge.svg\" alt=\"Open In Colab\"/></a>"
      ]
    },
    {
      "cell_type": "markdown",
      "source": [
        "# Case 1\n",
        "## Eric Ding (MMA)\n",
        "\n",
        "\n",
        "\n",
        "\n",
        "3. What is the difference between a double match rate of 2-minute wait time against a 5-minute wait time?\n",
        " - Plot the histogram and interpret the result.\n",
        " - Write one-sided hypothesis tests.\n",
        " - Is the difference statistically significant at a 95% confidence level? If you are using parametric test, you need to validate their assumptions.\n",
        "\n",
        "4. How do the results of cancellation rate of 2-minute against a 5-minute wait time change during commute hours ? Use simple linear regression to answer the question. Use visualization to support your results.\n",
        "\n",
        "5.  Based on the data available to you, what would you recommend doing? Would you increase the wait time from 2 to 5 minutes in the six treatment cities of the launch experiment? (explain in words)\n",
        "\n",
        "The due date for submission is on Friday, March 1st at 11:59 am. Late submission is not accepted."
      ],
      "metadata": {
        "id": "PPsIvriyWskn"
      }
    },
    {
      "cell_type": "markdown",
      "source": [
        "# Q1\n",
        "1. Why didn’t Uber launch Express Pool with simple A/B testing for 6 cities? Why not roll out Express to 50% of users in a given city and leave the remaining 50% with the existing product offering to see how Express fares?"
      ],
      "metadata": {
        "id": "DlNSQqccWvAN"
      }
    },
    {
      "cell_type": "markdown",
      "source": [
        "Answer:\n"
      ],
      "metadata": {
        "id": "Bd6j0kQsW0ll"
      }
    },
    {
      "cell_type": "markdown",
      "source": [
        "#Q2\n",
        "Why did Uber launch the switch-back experiment in Boston if they were already testing Express with a synthetic control lunch experiment in 12 cities?"
      ],
      "metadata": {
        "id": "lEi_QOCMW_Ut"
      }
    },
    {
      "cell_type": "markdown",
      "source": [
        "Answer:"
      ],
      "metadata": {
        "id": "Q4f9xv6BW29m"
      }
    },
    {
      "cell_type": "code",
      "source": [
        "from scipy.stats import norm"
      ],
      "metadata": {
        "id": "P7BTB1iRRRHD"
      },
      "execution_count": null,
      "outputs": []
    },
    {
      "cell_type": "code",
      "source": [
        "mean =0.5\n",
        "std_dev = 2.8\n",
        "tax_rate =0.3"
      ],
      "metadata": {
        "id": "ryO5kY3VRWnX"
      },
      "execution_count": null,
      "outputs": []
    },
    {
      "cell_type": "code",
      "source": [
        "#from table\n",
        "equity = 5"
      ],
      "metadata": {
        "id": "k6oB4RKJRhVU"
      },
      "execution_count": null,
      "outputs": []
    },
    {
      "cell_type": "code",
      "source": [
        "loss_to_wipe_equity_pre_tax = equity/(1-tax_rate)\n",
        "loss_to_wipe_equity_pre_tax"
      ],
      "metadata": {
        "colab": {
          "base_uri": "https://localhost:8080/"
        },
        "id": "Bnn6Pt3gR6cT",
        "outputId": "3d66695d-16ee-4fee-9ff3-fcbe3e2092c2"
      },
      "execution_count": null,
      "outputs": [
        {
          "output_type": "execute_result",
          "data": {
            "text/plain": [
              "7.142857142857143"
            ]
          },
          "metadata": {},
          "execution_count": 5
        }
      ]
    },
    {
      "cell_type": "code",
      "source": [
        "z_score = (-loss_to_wipe_equity_pre_tax-mean)/std_dev\n",
        "probability = norm.cdf(z_score)\n",
        "probability"
      ],
      "metadata": {
        "colab": {
          "base_uri": "https://localhost:8080/"
        },
        "id": "YWblBV70TGyO",
        "outputId": "cc5fb147-bf9b-4127-d264-de5480666c63"
      },
      "execution_count": null,
      "outputs": [
        {
          "output_type": "execute_result",
          "data": {
            "text/plain": [
              "0.0031706391958418803"
            ]
          },
          "metadata": {},
          "execution_count": 9
        }
      ]
    },
    {
      "cell_type": "code",
      "source": [
        "death_benefit = 5000000\n",
        "annual_interest_rate = 0.06\n",
        "probabilities = [0.011447, 0.012352, 0.013248]\n",
        "\n",
        "# Convert annual interest rate to semiannual compounding rate\n",
        "#semiannual_rate = (1 + annual_interest_rate)**(1/2) - 1\n",
        "semiannual_rate = 0.03\n",
        "present_value = 0\n",
        "cumulative_survival_probability = 1\n",
        "\n",
        "# Calculate present value\n",
        "for i, probability_of_dying in enumerate(probabilities, start=1):\n",
        "\n",
        "    survival_probability = cumulative_survival_probability * (1 - probability_of_dying)\n",
        "    # The payout occurs in the middle of the ith year\n",
        "    time_to_discount = i - 0.5\n",
        "    expected_payout = death_benefit * cumulative_survival_probability * probability_of_dying\n",
        "    pv = expected_payout / ((1 + semiannual_rate)**(2*time_to_discount))\n",
        "    present_value += pv\n",
        "    # Update the cumulative survival probability\n",
        "    cumulative_survival_probability = survival_probability\n",
        "\n",
        "# Print the semiannual rate and the corrected present value\n",
        "present_value\n"
      ],
      "metadata": {
        "colab": {
          "base_uri": "https://localhost:8080/"
        },
        "id": "-Z4M-wnBcfMm",
        "outputId": "4725c73a-1b84-4688-cc35-8115526f532b"
      },
      "execution_count": null,
      "outputs": [
        {
          "output_type": "execute_result",
          "data": {
            "text/plain": [
              "167227.5643697698"
            ]
          },
          "metadata": {},
          "execution_count": 16
        }
      ]
    },
    {
      "cell_type": "code",
      "source": [
        "from sympy import symbols, solve\n",
        "\n",
        "c = symbols('x')\n",
        "#salary growth rate\n",
        "salary_growth = 0.02\n",
        "\n",
        "#benefit growth rate (inflation rate minus 1%)\n",
        "benefit_growth = -0.01\n",
        "\n",
        "#return on investment\n",
        "r_investment_return = 0.015\n",
        "\n",
        "# assume discount rate = 0\n",
        "discount_rate = 0\n",
        "\n",
        "employment_years = 45\n",
        "retirement_years = 18\n",
        "pension_percentage_of_final_salary = 0.7\n",
        "\n",
        "#final salary\n",
        "final_salary = (1 + salary_growth)**employment_years\n",
        "\n",
        "# Calculate the present value of pension benefits\n",
        "pv_pension_benefits = sum((pension_percentage_of_final_salary * final_salary * (1 + benefit_growth)**n) /\n",
        "                          (1 + r_investment_return)**(n + employment_years) for n in range(retirement_years))\n",
        "\n",
        "# Calculate the present value of contributions\n",
        "\n",
        "pv_contributions = sum(c * (1 + salary_growth)**n / (1 + discount_rate)**n for n in range(employment_years))\n",
        "\n",
        "# Solve for c\n",
        "contribution_rate = solve(pv_contributions - pv_pension_benefits, c)\n",
        "\n",
        "contribution_rate\n"
      ],
      "metadata": {
        "colab": {
          "base_uri": "https://localhost:8080/"
        },
        "id": "e8fQiv_ghItN",
        "outputId": "183e1dcc-dc02-4301-e07b-1e0196bc053f"
      },
      "execution_count": null,
      "outputs": [
        {
          "output_type": "execute_result",
          "data": {
            "text/plain": [
              "[0.178356293194115]"
            ]
          },
          "metadata": {},
          "execution_count": 4
        }
      ]
    }
  ]
}